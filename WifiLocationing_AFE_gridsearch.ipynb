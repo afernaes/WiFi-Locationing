{
 "cells": [
  {
   "cell_type": "markdown",
   "metadata": {
    "ExecuteTime": {
     "end_time": "2020-02-13T10:20:06.328675Z",
     "start_time": "2020-02-13T10:20:06.324687Z"
    }
   },
   "source": [
    "# Loading Libraries and Algorithms"
   ]
  },
  {
   "cell_type": "code",
   "execution_count": 1,
   "metadata": {
    "ExecuteTime": {
     "end_time": "2020-02-16T10:12:40.110532Z",
     "start_time": "2020-02-16T10:12:38.668777Z"
    }
   },
   "outputs": [],
   "source": [
    "import os\n",
    "import pandas as pd\n",
    "import matplotlib.pyplot as plt\n",
    "import matplotlib as mpl #https://matplotlib.org/gallery/style_sheets/style_sheets_reference.html\n",
    "import numpy as np\n",
    "import seaborn as sns\n",
    "\n",
    "from sklearn.utils import resample\n",
    "from sklearn.preprocessing import Normalizer\n",
    "from sklearn.decomposition import PCA"
   ]
  },
  {
   "cell_type": "markdown",
   "metadata": {
    "ExecuteTime": {
     "end_time": "2020-02-13T10:25:22.248124Z",
     "start_time": "2020-02-13T10:25:22.244623Z"
    }
   },
   "source": [
    "# Importing the Data"
   ]
  },
  {
   "cell_type": "code",
   "execution_count": 2,
   "metadata": {
    "ExecuteTime": {
     "end_time": "2020-02-16T10:12:42.718182Z",
     "start_time": "2020-02-16T10:12:41.585217Z"
    }
   },
   "outputs": [],
   "source": [
    "training_raw = pd.read_csv(\"./Data/trainingData.csv\")\n",
    "validation_raw = pd.read_csv(\"./Data/validationData.csv\")"
   ]
  },
  {
   "cell_type": "markdown",
   "metadata": {},
   "source": [
    "Initial Data Exploration"
   ]
  },
  {
   "cell_type": "code",
   "execution_count": 3,
   "metadata": {
    "ExecuteTime": {
     "end_time": "2020-02-16T10:12:44.676944Z",
     "start_time": "2020-02-16T10:12:44.653009Z"
    }
   },
   "outputs": [
    {
     "data": {
      "text/html": [
       "<div>\n",
       "<style scoped>\n",
       "    .dataframe tbody tr th:only-of-type {\n",
       "        vertical-align: middle;\n",
       "    }\n",
       "\n",
       "    .dataframe tbody tr th {\n",
       "        vertical-align: top;\n",
       "    }\n",
       "\n",
       "    .dataframe thead th {\n",
       "        text-align: right;\n",
       "    }\n",
       "</style>\n",
       "<table border=\"1\" class=\"dataframe\">\n",
       "  <thead>\n",
       "    <tr style=\"text-align: right;\">\n",
       "      <th></th>\n",
       "      <th>WAP001</th>\n",
       "      <th>WAP002</th>\n",
       "      <th>WAP003</th>\n",
       "      <th>WAP004</th>\n",
       "      <th>WAP005</th>\n",
       "      <th>WAP006</th>\n",
       "      <th>WAP007</th>\n",
       "      <th>WAP008</th>\n",
       "      <th>WAP009</th>\n",
       "      <th>WAP010</th>\n",
       "      <th>...</th>\n",
       "      <th>WAP520</th>\n",
       "      <th>LONGITUDE</th>\n",
       "      <th>LATITUDE</th>\n",
       "      <th>FLOOR</th>\n",
       "      <th>BUILDINGID</th>\n",
       "      <th>SPACEID</th>\n",
       "      <th>RELATIVEPOSITION</th>\n",
       "      <th>USERID</th>\n",
       "      <th>PHONEID</th>\n",
       "      <th>TIMESTAMP</th>\n",
       "    </tr>\n",
       "  </thead>\n",
       "  <tbody>\n",
       "    <tr>\n",
       "      <th>0</th>\n",
       "      <td>100</td>\n",
       "      <td>100</td>\n",
       "      <td>100</td>\n",
       "      <td>100</td>\n",
       "      <td>100</td>\n",
       "      <td>100</td>\n",
       "      <td>100</td>\n",
       "      <td>100</td>\n",
       "      <td>100</td>\n",
       "      <td>100</td>\n",
       "      <td>...</td>\n",
       "      <td>100</td>\n",
       "      <td>-7541.2643</td>\n",
       "      <td>4.864921e+06</td>\n",
       "      <td>2</td>\n",
       "      <td>1</td>\n",
       "      <td>106</td>\n",
       "      <td>2</td>\n",
       "      <td>2</td>\n",
       "      <td>23</td>\n",
       "      <td>1371713733</td>\n",
       "    </tr>\n",
       "    <tr>\n",
       "      <th>1</th>\n",
       "      <td>100</td>\n",
       "      <td>100</td>\n",
       "      <td>100</td>\n",
       "      <td>100</td>\n",
       "      <td>100</td>\n",
       "      <td>100</td>\n",
       "      <td>100</td>\n",
       "      <td>100</td>\n",
       "      <td>100</td>\n",
       "      <td>100</td>\n",
       "      <td>...</td>\n",
       "      <td>100</td>\n",
       "      <td>-7536.6212</td>\n",
       "      <td>4.864934e+06</td>\n",
       "      <td>2</td>\n",
       "      <td>1</td>\n",
       "      <td>106</td>\n",
       "      <td>2</td>\n",
       "      <td>2</td>\n",
       "      <td>23</td>\n",
       "      <td>1371713691</td>\n",
       "    </tr>\n",
       "    <tr>\n",
       "      <th>2</th>\n",
       "      <td>100</td>\n",
       "      <td>100</td>\n",
       "      <td>100</td>\n",
       "      <td>100</td>\n",
       "      <td>100</td>\n",
       "      <td>100</td>\n",
       "      <td>100</td>\n",
       "      <td>-97</td>\n",
       "      <td>100</td>\n",
       "      <td>100</td>\n",
       "      <td>...</td>\n",
       "      <td>100</td>\n",
       "      <td>-7519.1524</td>\n",
       "      <td>4.864950e+06</td>\n",
       "      <td>2</td>\n",
       "      <td>1</td>\n",
       "      <td>103</td>\n",
       "      <td>2</td>\n",
       "      <td>2</td>\n",
       "      <td>23</td>\n",
       "      <td>1371714095</td>\n",
       "    </tr>\n",
       "    <tr>\n",
       "      <th>3</th>\n",
       "      <td>100</td>\n",
       "      <td>100</td>\n",
       "      <td>100</td>\n",
       "      <td>100</td>\n",
       "      <td>100</td>\n",
       "      <td>100</td>\n",
       "      <td>100</td>\n",
       "      <td>100</td>\n",
       "      <td>100</td>\n",
       "      <td>100</td>\n",
       "      <td>...</td>\n",
       "      <td>100</td>\n",
       "      <td>-7524.5704</td>\n",
       "      <td>4.864934e+06</td>\n",
       "      <td>2</td>\n",
       "      <td>1</td>\n",
       "      <td>102</td>\n",
       "      <td>2</td>\n",
       "      <td>2</td>\n",
       "      <td>23</td>\n",
       "      <td>1371713807</td>\n",
       "    </tr>\n",
       "    <tr>\n",
       "      <th>4</th>\n",
       "      <td>100</td>\n",
       "      <td>100</td>\n",
       "      <td>100</td>\n",
       "      <td>100</td>\n",
       "      <td>100</td>\n",
       "      <td>100</td>\n",
       "      <td>100</td>\n",
       "      <td>100</td>\n",
       "      <td>100</td>\n",
       "      <td>100</td>\n",
       "      <td>...</td>\n",
       "      <td>100</td>\n",
       "      <td>-7632.1436</td>\n",
       "      <td>4.864982e+06</td>\n",
       "      <td>0</td>\n",
       "      <td>0</td>\n",
       "      <td>122</td>\n",
       "      <td>2</td>\n",
       "      <td>11</td>\n",
       "      <td>13</td>\n",
       "      <td>1369909710</td>\n",
       "    </tr>\n",
       "  </tbody>\n",
       "</table>\n",
       "<p>5 rows × 529 columns</p>\n",
       "</div>"
      ],
      "text/plain": [
       "   WAP001  WAP002  WAP003  WAP004  WAP005  WAP006  WAP007  WAP008  WAP009  \\\n",
       "0     100     100     100     100     100     100     100     100     100   \n",
       "1     100     100     100     100     100     100     100     100     100   \n",
       "2     100     100     100     100     100     100     100     -97     100   \n",
       "3     100     100     100     100     100     100     100     100     100   \n",
       "4     100     100     100     100     100     100     100     100     100   \n",
       "\n",
       "   WAP010  ...  WAP520  LONGITUDE      LATITUDE  FLOOR  BUILDINGID  SPACEID  \\\n",
       "0     100  ...     100 -7541.2643  4.864921e+06      2           1      106   \n",
       "1     100  ...     100 -7536.6212  4.864934e+06      2           1      106   \n",
       "2     100  ...     100 -7519.1524  4.864950e+06      2           1      103   \n",
       "3     100  ...     100 -7524.5704  4.864934e+06      2           1      102   \n",
       "4     100  ...     100 -7632.1436  4.864982e+06      0           0      122   \n",
       "\n",
       "   RELATIVEPOSITION  USERID  PHONEID   TIMESTAMP  \n",
       "0                 2       2       23  1371713733  \n",
       "1                 2       2       23  1371713691  \n",
       "2                 2       2       23  1371714095  \n",
       "3                 2       2       23  1371713807  \n",
       "4                 2      11       13  1369909710  \n",
       "\n",
       "[5 rows x 529 columns]"
      ]
     },
     "execution_count": 3,
     "metadata": {},
     "output_type": "execute_result"
    }
   ],
   "source": [
    "training_raw.head()"
   ]
  },
  {
   "cell_type": "code",
   "execution_count": 4,
   "metadata": {
    "ExecuteTime": {
     "end_time": "2020-02-14T19:22:16.532161Z",
     "start_time": "2020-02-14T19:22:14.242095Z"
    }
   },
   "outputs": [
    {
     "data": {
      "text/html": [
       "<div>\n",
       "<style scoped>\n",
       "    .dataframe tbody tr th:only-of-type {\n",
       "        vertical-align: middle;\n",
       "    }\n",
       "\n",
       "    .dataframe tbody tr th {\n",
       "        vertical-align: top;\n",
       "    }\n",
       "\n",
       "    .dataframe thead th {\n",
       "        text-align: right;\n",
       "    }\n",
       "</style>\n",
       "<table border=\"1\" class=\"dataframe\">\n",
       "  <thead>\n",
       "    <tr style=\"text-align: right;\">\n",
       "      <th></th>\n",
       "      <th>WAP001</th>\n",
       "      <th>WAP002</th>\n",
       "      <th>WAP003</th>\n",
       "      <th>WAP004</th>\n",
       "      <th>WAP005</th>\n",
       "      <th>WAP006</th>\n",
       "      <th>WAP007</th>\n",
       "      <th>WAP008</th>\n",
       "      <th>WAP009</th>\n",
       "      <th>WAP010</th>\n",
       "      <th>...</th>\n",
       "      <th>WAP520</th>\n",
       "      <th>LONGITUDE</th>\n",
       "      <th>LATITUDE</th>\n",
       "      <th>FLOOR</th>\n",
       "      <th>BUILDINGID</th>\n",
       "      <th>SPACEID</th>\n",
       "      <th>RELATIVEPOSITION</th>\n",
       "      <th>USERID</th>\n",
       "      <th>PHONEID</th>\n",
       "      <th>TIMESTAMP</th>\n",
       "    </tr>\n",
       "  </thead>\n",
       "  <tbody>\n",
       "    <tr>\n",
       "      <th>count</th>\n",
       "      <td>19937.000000</td>\n",
       "      <td>19937.000000</td>\n",
       "      <td>19937.0</td>\n",
       "      <td>19937.0</td>\n",
       "      <td>19937.000000</td>\n",
       "      <td>19937.000000</td>\n",
       "      <td>19937.000000</td>\n",
       "      <td>19937.000000</td>\n",
       "      <td>19937.000000</td>\n",
       "      <td>19937.000000</td>\n",
       "      <td>...</td>\n",
       "      <td>19937.0</td>\n",
       "      <td>19937.000000</td>\n",
       "      <td>1.993700e+04</td>\n",
       "      <td>19937.000000</td>\n",
       "      <td>19937.000000</td>\n",
       "      <td>19937.000000</td>\n",
       "      <td>19937.000000</td>\n",
       "      <td>19937.000000</td>\n",
       "      <td>19937.000000</td>\n",
       "      <td>1.993700e+04</td>\n",
       "    </tr>\n",
       "    <tr>\n",
       "      <th>mean</th>\n",
       "      <td>99.823644</td>\n",
       "      <td>99.820936</td>\n",
       "      <td>100.0</td>\n",
       "      <td>100.0</td>\n",
       "      <td>99.613733</td>\n",
       "      <td>97.130461</td>\n",
       "      <td>94.733661</td>\n",
       "      <td>93.820234</td>\n",
       "      <td>94.693936</td>\n",
       "      <td>99.163766</td>\n",
       "      <td>...</td>\n",
       "      <td>100.0</td>\n",
       "      <td>-7464.275947</td>\n",
       "      <td>4.864871e+06</td>\n",
       "      <td>1.674575</td>\n",
       "      <td>1.212820</td>\n",
       "      <td>148.429954</td>\n",
       "      <td>1.833024</td>\n",
       "      <td>9.068014</td>\n",
       "      <td>13.021869</td>\n",
       "      <td>1.371421e+09</td>\n",
       "    </tr>\n",
       "    <tr>\n",
       "      <th>std</th>\n",
       "      <td>5.866842</td>\n",
       "      <td>5.798156</td>\n",
       "      <td>0.0</td>\n",
       "      <td>0.0</td>\n",
       "      <td>8.615657</td>\n",
       "      <td>22.931890</td>\n",
       "      <td>30.541335</td>\n",
       "      <td>33.010404</td>\n",
       "      <td>30.305084</td>\n",
       "      <td>12.634045</td>\n",
       "      <td>...</td>\n",
       "      <td>0.0</td>\n",
       "      <td>123.402010</td>\n",
       "      <td>6.693318e+01</td>\n",
       "      <td>1.223078</td>\n",
       "      <td>0.833139</td>\n",
       "      <td>58.342106</td>\n",
       "      <td>0.372964</td>\n",
       "      <td>4.988720</td>\n",
       "      <td>5.362410</td>\n",
       "      <td>5.572054e+05</td>\n",
       "    </tr>\n",
       "    <tr>\n",
       "      <th>min</th>\n",
       "      <td>-97.000000</td>\n",
       "      <td>-90.000000</td>\n",
       "      <td>100.0</td>\n",
       "      <td>100.0</td>\n",
       "      <td>-97.000000</td>\n",
       "      <td>-98.000000</td>\n",
       "      <td>-99.000000</td>\n",
       "      <td>-98.000000</td>\n",
       "      <td>-98.000000</td>\n",
       "      <td>-99.000000</td>\n",
       "      <td>...</td>\n",
       "      <td>100.0</td>\n",
       "      <td>-7691.338400</td>\n",
       "      <td>4.864746e+06</td>\n",
       "      <td>0.000000</td>\n",
       "      <td>0.000000</td>\n",
       "      <td>1.000000</td>\n",
       "      <td>1.000000</td>\n",
       "      <td>1.000000</td>\n",
       "      <td>1.000000</td>\n",
       "      <td>1.369909e+09</td>\n",
       "    </tr>\n",
       "    <tr>\n",
       "      <th>25%</th>\n",
       "      <td>100.000000</td>\n",
       "      <td>100.000000</td>\n",
       "      <td>100.0</td>\n",
       "      <td>100.0</td>\n",
       "      <td>100.000000</td>\n",
       "      <td>100.000000</td>\n",
       "      <td>100.000000</td>\n",
       "      <td>100.000000</td>\n",
       "      <td>100.000000</td>\n",
       "      <td>100.000000</td>\n",
       "      <td>...</td>\n",
       "      <td>100.0</td>\n",
       "      <td>-7594.737000</td>\n",
       "      <td>4.864821e+06</td>\n",
       "      <td>1.000000</td>\n",
       "      <td>0.000000</td>\n",
       "      <td>110.000000</td>\n",
       "      <td>2.000000</td>\n",
       "      <td>5.000000</td>\n",
       "      <td>8.000000</td>\n",
       "      <td>1.371056e+09</td>\n",
       "    </tr>\n",
       "    <tr>\n",
       "      <th>50%</th>\n",
       "      <td>100.000000</td>\n",
       "      <td>100.000000</td>\n",
       "      <td>100.0</td>\n",
       "      <td>100.0</td>\n",
       "      <td>100.000000</td>\n",
       "      <td>100.000000</td>\n",
       "      <td>100.000000</td>\n",
       "      <td>100.000000</td>\n",
       "      <td>100.000000</td>\n",
       "      <td>100.000000</td>\n",
       "      <td>...</td>\n",
       "      <td>100.0</td>\n",
       "      <td>-7423.060900</td>\n",
       "      <td>4.864852e+06</td>\n",
       "      <td>2.000000</td>\n",
       "      <td>1.000000</td>\n",
       "      <td>129.000000</td>\n",
       "      <td>2.000000</td>\n",
       "      <td>11.000000</td>\n",
       "      <td>13.000000</td>\n",
       "      <td>1.371716e+09</td>\n",
       "    </tr>\n",
       "    <tr>\n",
       "      <th>75%</th>\n",
       "      <td>100.000000</td>\n",
       "      <td>100.000000</td>\n",
       "      <td>100.0</td>\n",
       "      <td>100.0</td>\n",
       "      <td>100.000000</td>\n",
       "      <td>100.000000</td>\n",
       "      <td>100.000000</td>\n",
       "      <td>100.000000</td>\n",
       "      <td>100.000000</td>\n",
       "      <td>100.000000</td>\n",
       "      <td>...</td>\n",
       "      <td>100.0</td>\n",
       "      <td>-7359.193000</td>\n",
       "      <td>4.864930e+06</td>\n",
       "      <td>3.000000</td>\n",
       "      <td>2.000000</td>\n",
       "      <td>207.000000</td>\n",
       "      <td>2.000000</td>\n",
       "      <td>13.000000</td>\n",
       "      <td>14.000000</td>\n",
       "      <td>1.371721e+09</td>\n",
       "    </tr>\n",
       "    <tr>\n",
       "      <th>max</th>\n",
       "      <td>100.000000</td>\n",
       "      <td>100.000000</td>\n",
       "      <td>100.0</td>\n",
       "      <td>100.0</td>\n",
       "      <td>100.000000</td>\n",
       "      <td>100.000000</td>\n",
       "      <td>100.000000</td>\n",
       "      <td>100.000000</td>\n",
       "      <td>100.000000</td>\n",
       "      <td>100.000000</td>\n",
       "      <td>...</td>\n",
       "      <td>100.0</td>\n",
       "      <td>-7300.818990</td>\n",
       "      <td>4.865017e+06</td>\n",
       "      <td>4.000000</td>\n",
       "      <td>2.000000</td>\n",
       "      <td>254.000000</td>\n",
       "      <td>2.000000</td>\n",
       "      <td>18.000000</td>\n",
       "      <td>24.000000</td>\n",
       "      <td>1.371738e+09</td>\n",
       "    </tr>\n",
       "  </tbody>\n",
       "</table>\n",
       "<p>8 rows × 529 columns</p>\n",
       "</div>"
      ],
      "text/plain": [
       "             WAP001        WAP002   WAP003   WAP004        WAP005  \\\n",
       "count  19937.000000  19937.000000  19937.0  19937.0  19937.000000   \n",
       "mean      99.823644     99.820936    100.0    100.0     99.613733   \n",
       "std        5.866842      5.798156      0.0      0.0      8.615657   \n",
       "min      -97.000000    -90.000000    100.0    100.0    -97.000000   \n",
       "25%      100.000000    100.000000    100.0    100.0    100.000000   \n",
       "50%      100.000000    100.000000    100.0    100.0    100.000000   \n",
       "75%      100.000000    100.000000    100.0    100.0    100.000000   \n",
       "max      100.000000    100.000000    100.0    100.0    100.000000   \n",
       "\n",
       "             WAP006        WAP007        WAP008        WAP009        WAP010  \\\n",
       "count  19937.000000  19937.000000  19937.000000  19937.000000  19937.000000   \n",
       "mean      97.130461     94.733661     93.820234     94.693936     99.163766   \n",
       "std       22.931890     30.541335     33.010404     30.305084     12.634045   \n",
       "min      -98.000000    -99.000000    -98.000000    -98.000000    -99.000000   \n",
       "25%      100.000000    100.000000    100.000000    100.000000    100.000000   \n",
       "50%      100.000000    100.000000    100.000000    100.000000    100.000000   \n",
       "75%      100.000000    100.000000    100.000000    100.000000    100.000000   \n",
       "max      100.000000    100.000000    100.000000    100.000000    100.000000   \n",
       "\n",
       "       ...   WAP520     LONGITUDE      LATITUDE         FLOOR    BUILDINGID  \\\n",
       "count  ...  19937.0  19937.000000  1.993700e+04  19937.000000  19937.000000   \n",
       "mean   ...    100.0  -7464.275947  4.864871e+06      1.674575      1.212820   \n",
       "std    ...      0.0    123.402010  6.693318e+01      1.223078      0.833139   \n",
       "min    ...    100.0  -7691.338400  4.864746e+06      0.000000      0.000000   \n",
       "25%    ...    100.0  -7594.737000  4.864821e+06      1.000000      0.000000   \n",
       "50%    ...    100.0  -7423.060900  4.864852e+06      2.000000      1.000000   \n",
       "75%    ...    100.0  -7359.193000  4.864930e+06      3.000000      2.000000   \n",
       "max    ...    100.0  -7300.818990  4.865017e+06      4.000000      2.000000   \n",
       "\n",
       "            SPACEID  RELATIVEPOSITION        USERID       PHONEID  \\\n",
       "count  19937.000000      19937.000000  19937.000000  19937.000000   \n",
       "mean     148.429954          1.833024      9.068014     13.021869   \n",
       "std       58.342106          0.372964      4.988720      5.362410   \n",
       "min        1.000000          1.000000      1.000000      1.000000   \n",
       "25%      110.000000          2.000000      5.000000      8.000000   \n",
       "50%      129.000000          2.000000     11.000000     13.000000   \n",
       "75%      207.000000          2.000000     13.000000     14.000000   \n",
       "max      254.000000          2.000000     18.000000     24.000000   \n",
       "\n",
       "          TIMESTAMP  \n",
       "count  1.993700e+04  \n",
       "mean   1.371421e+09  \n",
       "std    5.572054e+05  \n",
       "min    1.369909e+09  \n",
       "25%    1.371056e+09  \n",
       "50%    1.371716e+09  \n",
       "75%    1.371721e+09  \n",
       "max    1.371738e+09  \n",
       "\n",
       "[8 rows x 529 columns]"
      ]
     },
     "execution_count": 4,
     "metadata": {},
     "output_type": "execute_result"
    }
   ],
   "source": [
    "training_raw.describe()"
   ]
  },
  {
   "cell_type": "code",
   "execution_count": 5,
   "metadata": {
    "ExecuteTime": {
     "end_time": "2020-02-14T19:22:17.022242Z",
     "start_time": "2020-02-14T19:22:16.956620Z"
    }
   },
   "outputs": [
    {
     "data": {
      "text/plain": [
       "0"
      ]
     },
     "execution_count": 5,
     "metadata": {},
     "output_type": "execute_result"
    }
   ],
   "source": [
    "# Check missing values\n",
    "training_raw.isnull().any().sum()\n",
    "validation_raw.isnull().any().sum()"
   ]
  },
  {
   "cell_type": "markdown",
   "metadata": {},
   "source": [
    "## Data Exploration"
   ]
  },
  {
   "cell_type": "markdown",
   "metadata": {},
   "source": [
    "## Floor and Building Distribution"
   ]
  },
  {
   "cell_type": "code",
   "execution_count": 6,
   "metadata": {
    "ExecuteTime": {
     "end_time": "2020-02-14T19:22:20.195154Z",
     "start_time": "2020-02-14T19:22:19.997089Z"
    }
   },
   "outputs": [
    {
     "data": {
      "text/html": [
       "<div>\n",
       "<style scoped>\n",
       "    .dataframe tbody tr th:only-of-type {\n",
       "        vertical-align: middle;\n",
       "    }\n",
       "\n",
       "    .dataframe tbody tr th {\n",
       "        vertical-align: top;\n",
       "    }\n",
       "\n",
       "    .dataframe thead th {\n",
       "        text-align: right;\n",
       "    }\n",
       "</style>\n",
       "<table border=\"1\" class=\"dataframe\">\n",
       "  <thead>\n",
       "    <tr style=\"text-align: right;\">\n",
       "      <th></th>\n",
       "      <th>FLOOR</th>\n",
       "      <th>BUILDINGID</th>\n",
       "    </tr>\n",
       "  </thead>\n",
       "  <tbody>\n",
       "    <tr>\n",
       "      <th>count</th>\n",
       "      <td>19937</td>\n",
       "      <td>19937</td>\n",
       "    </tr>\n",
       "    <tr>\n",
       "      <th>unique</th>\n",
       "      <td>5</td>\n",
       "      <td>3</td>\n",
       "    </tr>\n",
       "    <tr>\n",
       "      <th>top</th>\n",
       "      <td>3</td>\n",
       "      <td>2</td>\n",
       "    </tr>\n",
       "    <tr>\n",
       "      <th>freq</th>\n",
       "      <td>5048</td>\n",
       "      <td>9492</td>\n",
       "    </tr>\n",
       "  </tbody>\n",
       "</table>\n",
       "</div>"
      ],
      "text/plain": [
       "        FLOOR  BUILDINGID\n",
       "count   19937       19937\n",
       "unique      5           3\n",
       "top         3           2\n",
       "freq     5048        9492"
      ]
     },
     "execution_count": 6,
     "metadata": {},
     "output_type": "execute_result"
    }
   ],
   "source": [
    "training_raw.FLOOR = training_raw.FLOOR.astype('category')\n",
    "training_raw.BUILDINGID = training_raw.BUILDINGID.astype('category')\n",
    "training_raw[['FLOOR', 'BUILDINGID']].describe()"
   ]
  },
  {
   "cell_type": "code",
   "execution_count": 7,
   "metadata": {
    "ExecuteTime": {
     "end_time": "2020-02-14T19:22:21.043908Z",
     "start_time": "2020-02-14T19:22:21.008213Z"
    }
   },
   "outputs": [
    {
     "data": {
      "text/html": [
       "<div>\n",
       "<style scoped>\n",
       "    .dataframe tbody tr th:only-of-type {\n",
       "        vertical-align: middle;\n",
       "    }\n",
       "\n",
       "    .dataframe tbody tr th {\n",
       "        vertical-align: top;\n",
       "    }\n",
       "\n",
       "    .dataframe thead th {\n",
       "        text-align: right;\n",
       "    }\n",
       "</style>\n",
       "<table border=\"1\" class=\"dataframe\">\n",
       "  <thead>\n",
       "    <tr style=\"text-align: right;\">\n",
       "      <th></th>\n",
       "      <th>FLOOR</th>\n",
       "      <th>BUILDINGID</th>\n",
       "    </tr>\n",
       "  </thead>\n",
       "  <tbody>\n",
       "    <tr>\n",
       "      <th>count</th>\n",
       "      <td>19937</td>\n",
       "      <td>19937</td>\n",
       "    </tr>\n",
       "    <tr>\n",
       "      <th>unique</th>\n",
       "      <td>5</td>\n",
       "      <td>3</td>\n",
       "    </tr>\n",
       "    <tr>\n",
       "      <th>top</th>\n",
       "      <td>3</td>\n",
       "      <td>2</td>\n",
       "    </tr>\n",
       "    <tr>\n",
       "      <th>freq</th>\n",
       "      <td>5048</td>\n",
       "      <td>9492</td>\n",
       "    </tr>\n",
       "  </tbody>\n",
       "</table>\n",
       "</div>"
      ],
      "text/plain": [
       "        FLOOR  BUILDINGID\n",
       "count   19937       19937\n",
       "unique      5           3\n",
       "top         3           2\n",
       "freq     5048        9492"
      ]
     },
     "execution_count": 7,
     "metadata": {},
     "output_type": "execute_result"
    }
   ],
   "source": [
    "validation_raw.FLOOR = validation_raw.FLOOR.astype('category')\n",
    "validation_raw.BUILDINGID = validation_raw.BUILDINGID.astype('category')\n",
    "training_raw[['FLOOR', 'BUILDINGID']].describe()"
   ]
  },
  {
   "cell_type": "code",
   "execution_count": 8,
   "metadata": {
    "ExecuteTime": {
     "end_time": "2020-02-14T19:22:22.377009Z",
     "start_time": "2020-02-14T19:22:22.034754Z"
    }
   },
   "outputs": [
    {
     "data": {
      "image/png": "[encoded data removed]",
      "text/plain": [
       "<Figure size 360x360 with 1 Axes>"
      ]
     },
     "metadata": {
      "needs_background": "light"
     },
     "output_type": "display_data"
    }
   ],
   "source": [
    "FLOOR_count = training_raw.FLOOR.value_counts()\n",
    "FLOOR_count\n",
    "\n",
    "FLOOR_count.plot(kind='barh', figsize=(5,5))\n",
    "plt.title('FLOOR', fontsize=18)\n",
    "plt.ylabel('Different Floor', fontsize=16)\n",
    "plt.xlabel('Count', fontsize=16)\n",
    "plt.show() #We don't want to stack the plot with the next one"
   ]
  },
  {
   "cell_type": "code",
   "execution_count": 9,
   "metadata": {
    "ExecuteTime": {
     "end_time": "2020-02-14T19:22:23.558445Z",
     "start_time": "2020-02-14T19:22:23.361456Z"
    }
   },
   "outputs": [
    {
     "data": {
      "image/png": "[encoded data removed]",
      "text/plain": [
       "<Figure size 360x360 with 1 Axes>"
      ]
     },
     "metadata": {
      "needs_background": "light"
     },
     "output_type": "display_data"
    }
   ],
   "source": [
    "BUILDINGID_count = training_raw.BUILDINGID.value_counts()\n",
    "\n",
    "BUILDINGID_count.plot(kind='barh', figsize=(5,5), width = 0.3)\n",
    "plt.title('BUILDINGID', fontsize=18)\n",
    "plt.ylabel('Different Building', fontsize=16)\n",
    "plt.xlabel('Count', fontsize=16)\n",
    "plt.show()"
   ]
  },
  {
   "cell_type": "markdown",
   "metadata": {},
   "source": [
    "- There is a clear class imbalance in the Building counts, resample may be needed.\n",
    "- There is another class imbalance in the Floor distribution, we must check if this comes from a single building that has a 4 Floor"
   ]
  },
  {
   "cell_type": "code",
   "execution_count": 10,
   "metadata": {
    "ExecuteTime": {
     "end_time": "2020-02-14T19:22:25.365361Z",
     "start_time": "2020-02-14T19:22:25.035330Z"
    }
   },
   "outputs": [
    {
     "data": {
      "text/plain": [
       "<matplotlib.axes._subplots.AxesSubplot at 0x2174e558288>"
      ]
     },
     "execution_count": 10,
     "metadata": {},
     "output_type": "execute_result"
    },
    {
     "data": {
      "image/png": "[encoded data removed]",
      "text/plain": [
       "<Figure size 432x288 with 1 Axes>"
      ]
     },
     "metadata": {
      "needs_background": "light"
     },
     "output_type": "display_data"
    }
   ],
   "source": [
    "training_raw.groupby(['BUILDINGID','FLOOR']).size().plot(kind=\"bar\")\n",
    "#Only one of the buildings has a 4th floor"
   ]
  },
  {
   "cell_type": "markdown",
   "metadata": {
    "ExecuteTime": {
     "end_time": "2020-02-13T10:37:38.455789Z",
     "start_time": "2020-02-13T10:37:38.450805Z"
    }
   },
   "source": [
    "## Checking the Observations Distribution"
   ]
  },
  {
   "cell_type": "code",
   "execution_count": 11,
   "metadata": {
    "ExecuteTime": {
     "end_time": "2020-02-14T19:22:28.309564Z",
     "start_time": "2020-02-14T19:22:26.717843Z"
    }
   },
   "outputs": [
    {
     "data": {
      "image/png": "[encoded data removed]",
      "text/plain": [
       "<Figure size 720x360 with 1 Axes>"
      ]
     },
     "metadata": {
      "needs_background": "light"
     },
     "output_type": "display_data"
    }
   ],
   "source": [
    "# Create subset for inside and outside\n",
    "Pos01_in_train = training_raw[training_raw['RELATIVEPOSITION'] == 1]\n",
    "Pos02_out_train = training_raw[training_raw['RELATIVEPOSITION'] == 2]\n",
    "\n",
    "ax1 = Pos01_in_train.plot(kind='scatter', x=\"LONGITUDE\", y=\"LATITUDE\",\n",
    "                    label = 'Inside',\n",
    "                    color='blue',\n",
    "                    figsize=(10,5))\n",
    "ax2 = Pos02_out_train.plot(kind='scatter', x=\"LONGITUDE\", y=\"LATITUDE\",\n",
    "                    label = 'Outside',\n",
    "                    color=\"darkviolet\",\n",
    "                    figsize=(10,5),\n",
    "                    ax=ax1)\n",
    "\n",
    "plt.title('Relative Position - Inside or Outside (Training dataset)', fontsize=18)\n",
    "plt.xlabel('LONGITUDE', fontsize=16)\n",
    "plt.ylabel('LATITUDE', fontsize=16)\n",
    "plt.legend(loc='best')\n",
    "plt.show()"
   ]
  },
  {
   "cell_type": "code",
   "execution_count": 12,
   "metadata": {
    "ExecuteTime": {
     "end_time": "2020-02-14T19:22:30.921240Z",
     "start_time": "2020-02-14T19:22:29.257902Z"
    }
   },
   "outputs": [
    {
     "data": {
      "image/png": "[encoded data removed]",
      "text/plain": [
       "<Figure size 720x360 with 1 Axes>"
      ]
     },
     "metadata": {
      "needs_background": "light"
     },
     "output_type": "display_data"
    }
   ],
   "source": [
    "#CHECKING DISTRIBUTIONS OF THE TRAINING AND VALIDATIONS\n",
    "\n",
    "ax1 = training_raw.plot(kind='scatter', x=\"LONGITUDE\", y=\"LATITUDE\",\n",
    "                    label = 'Training Data ',\n",
    "                    color=\"darkturquoise\",\n",
    "                    figsize=(10,5))\n",
    "ax2 = validation_raw.plot(kind='scatter', x=\"LONGITUDE\", y=\"LATITUDE\",\n",
    "                    label = 'Validation Data ',\n",
    "                    color=\"lightcoral\",\n",
    "                    figsize=(10,5),\n",
    "                    ax=ax1)\n",
    "\n",
    "plt.title(\"Longitude and Latitude (trainingData and validationData)\", fontsize=18)\n",
    "plt.xlabel('LONGITUDE', fontsize=16)\n",
    "plt.ylabel('LATITUDE', fontsize=16)\n",
    "plt.legend(loc='best')\n",
    "\n",
    "plt.show()"
   ]
  },
  {
   "cell_type": "markdown",
   "metadata": {},
   "source": [
    "## Checking WAPS distribution"
   ]
  },
  {
   "cell_type": "code",
   "execution_count": 13,
   "metadata": {
    "ExecuteTime": {
     "end_time": "2020-02-14T19:22:49.094521Z",
     "start_time": "2020-02-14T19:22:47.856191Z"
    }
   },
   "outputs": [
    {
     "data": {
      "text/html": [
       "<div>\n",
       "<style scoped>\n",
       "    .dataframe tbody tr th:only-of-type {\n",
       "        vertical-align: middle;\n",
       "    }\n",
       "\n",
       "    .dataframe tbody tr th {\n",
       "        vertical-align: top;\n",
       "    }\n",
       "\n",
       "    .dataframe thead th {\n",
       "        text-align: right;\n",
       "    }\n",
       "</style>\n",
       "<table border=\"1\" class=\"dataframe\">\n",
       "  <thead>\n",
       "    <tr style=\"text-align: right;\">\n",
       "      <th></th>\n",
       "      <th>WAP001</th>\n",
       "      <th>WAP002</th>\n",
       "      <th>WAP003</th>\n",
       "      <th>WAP004</th>\n",
       "      <th>WAP005</th>\n",
       "      <th>WAP006</th>\n",
       "      <th>WAP007</th>\n",
       "      <th>WAP008</th>\n",
       "      <th>WAP009</th>\n",
       "      <th>WAP010</th>\n",
       "      <th>...</th>\n",
       "      <th>LONGITUDE</th>\n",
       "      <th>LATITUDE</th>\n",
       "      <th>FLOOR</th>\n",
       "      <th>BUILDINGID</th>\n",
       "      <th>SPACEID</th>\n",
       "      <th>RELATIVEPOSITION</th>\n",
       "      <th>USERID</th>\n",
       "      <th>PHONEID</th>\n",
       "      <th>TIMESTAMP</th>\n",
       "      <th>WAP_COUNT</th>\n",
       "    </tr>\n",
       "  </thead>\n",
       "  <tbody>\n",
       "    <tr>\n",
       "      <th>0</th>\n",
       "      <td>100</td>\n",
       "      <td>100</td>\n",
       "      <td>100</td>\n",
       "      <td>100</td>\n",
       "      <td>100</td>\n",
       "      <td>100</td>\n",
       "      <td>100</td>\n",
       "      <td>100</td>\n",
       "      <td>100</td>\n",
       "      <td>100</td>\n",
       "      <td>...</td>\n",
       "      <td>-7541.2643</td>\n",
       "      <td>4.864921e+06</td>\n",
       "      <td>2</td>\n",
       "      <td>1</td>\n",
       "      <td>106</td>\n",
       "      <td>2</td>\n",
       "      <td>2</td>\n",
       "      <td>23</td>\n",
       "      <td>1371713733</td>\n",
       "      <td>17</td>\n",
       "    </tr>\n",
       "    <tr>\n",
       "      <th>1</th>\n",
       "      <td>100</td>\n",
       "      <td>100</td>\n",
       "      <td>100</td>\n",
       "      <td>100</td>\n",
       "      <td>100</td>\n",
       "      <td>100</td>\n",
       "      <td>100</td>\n",
       "      <td>100</td>\n",
       "      <td>100</td>\n",
       "      <td>100</td>\n",
       "      <td>...</td>\n",
       "      <td>-7536.6212</td>\n",
       "      <td>4.864934e+06</td>\n",
       "      <td>2</td>\n",
       "      <td>1</td>\n",
       "      <td>106</td>\n",
       "      <td>2</td>\n",
       "      <td>2</td>\n",
       "      <td>23</td>\n",
       "      <td>1371713691</td>\n",
       "      <td>16</td>\n",
       "    </tr>\n",
       "    <tr>\n",
       "      <th>2</th>\n",
       "      <td>100</td>\n",
       "      <td>100</td>\n",
       "      <td>100</td>\n",
       "      <td>100</td>\n",
       "      <td>100</td>\n",
       "      <td>100</td>\n",
       "      <td>100</td>\n",
       "      <td>-97</td>\n",
       "      <td>100</td>\n",
       "      <td>100</td>\n",
       "      <td>...</td>\n",
       "      <td>-7519.1524</td>\n",
       "      <td>4.864950e+06</td>\n",
       "      <td>2</td>\n",
       "      <td>1</td>\n",
       "      <td>103</td>\n",
       "      <td>2</td>\n",
       "      <td>2</td>\n",
       "      <td>23</td>\n",
       "      <td>1371714095</td>\n",
       "      <td>15</td>\n",
       "    </tr>\n",
       "    <tr>\n",
       "      <th>3</th>\n",
       "      <td>100</td>\n",
       "      <td>100</td>\n",
       "      <td>100</td>\n",
       "      <td>100</td>\n",
       "      <td>100</td>\n",
       "      <td>100</td>\n",
       "      <td>100</td>\n",
       "      <td>100</td>\n",
       "      <td>100</td>\n",
       "      <td>100</td>\n",
       "      <td>...</td>\n",
       "      <td>-7524.5704</td>\n",
       "      <td>4.864934e+06</td>\n",
       "      <td>2</td>\n",
       "      <td>1</td>\n",
       "      <td>102</td>\n",
       "      <td>2</td>\n",
       "      <td>2</td>\n",
       "      <td>23</td>\n",
       "      <td>1371713807</td>\n",
       "      <td>16</td>\n",
       "    </tr>\n",
       "    <tr>\n",
       "      <th>4</th>\n",
       "      <td>100</td>\n",
       "      <td>100</td>\n",
       "      <td>100</td>\n",
       "      <td>100</td>\n",
       "      <td>100</td>\n",
       "      <td>100</td>\n",
       "      <td>100</td>\n",
       "      <td>100</td>\n",
       "      <td>100</td>\n",
       "      <td>100</td>\n",
       "      <td>...</td>\n",
       "      <td>-7632.1436</td>\n",
       "      <td>4.864982e+06</td>\n",
       "      <td>0</td>\n",
       "      <td>0</td>\n",
       "      <td>122</td>\n",
       "      <td>2</td>\n",
       "      <td>11</td>\n",
       "      <td>13</td>\n",
       "      <td>1369909710</td>\n",
       "      <td>0</td>\n",
       "    </tr>\n",
       "  </tbody>\n",
       "</table>\n",
       "<p>5 rows × 530 columns</p>\n",
       "</div>"
      ],
      "text/plain": [
       "   WAP001  WAP002  WAP003  WAP004  WAP005  WAP006  WAP007  WAP008  WAP009  \\\n",
       "0     100     100     100     100     100     100     100     100     100   \n",
       "1     100     100     100     100     100     100     100     100     100   \n",
       "2     100     100     100     100     100     100     100     -97     100   \n",
       "3     100     100     100     100     100     100     100     100     100   \n",
       "4     100     100     100     100     100     100     100     100     100   \n",
       "\n",
       "   WAP010  ...  LONGITUDE      LATITUDE  FLOOR  BUILDINGID  SPACEID  \\\n",
       "0     100  ... -7541.2643  4.864921e+06      2           1      106   \n",
       "1     100  ... -7536.6212  4.864934e+06      2           1      106   \n",
       "2     100  ... -7519.1524  4.864950e+06      2           1      103   \n",
       "3     100  ... -7524.5704  4.864934e+06      2           1      102   \n",
       "4     100  ... -7632.1436  4.864982e+06      0           0      122   \n",
       "\n",
       "   RELATIVEPOSITION  USERID  PHONEID   TIMESTAMP  WAP_COUNT  \n",
       "0                 2       2       23  1371713733         17  \n",
       "1                 2       2       23  1371713691         16  \n",
       "2                 2       2       23  1371714095         15  \n",
       "3                 2       2       23  1371713807         16  \n",
       "4                 2      11       13  1369909710          0  \n",
       "\n",
       "[5 rows x 530 columns]"
      ]
     },
     "execution_count": 13,
     "metadata": {},
     "output_type": "execute_result"
    }
   ],
   "source": [
    "#Counting the number of ocurrences different to 100 (which is no signal)\n",
    "# Training Data\n",
    "training_raw['WAP_COUNT'] = training_raw[training_raw.iloc[:,0:520] != 100 ].count(axis=1)\n",
    "#If 1 or columns counts are generated for each row. Also: axis='columns'\n",
    "training_raw.head()"
   ]
  },
  {
   "cell_type": "code",
   "execution_count": 14,
   "metadata": {
    "ExecuteTime": {
     "end_time": "2020-02-14T19:22:52.224639Z",
     "start_time": "2020-02-14T19:22:52.132985Z"
    }
   },
   "outputs": [
    {
     "data": {
      "text/html": [
       "<div>\n",
       "<style scoped>\n",
       "    .dataframe tbody tr th:only-of-type {\n",
       "        vertical-align: middle;\n",
       "    }\n",
       "\n",
       "    .dataframe tbody tr th {\n",
       "        vertical-align: top;\n",
       "    }\n",
       "\n",
       "    .dataframe thead th {\n",
       "        text-align: right;\n",
       "    }\n",
       "</style>\n",
       "<table border=\"1\" class=\"dataframe\">\n",
       "  <thead>\n",
       "    <tr style=\"text-align: right;\">\n",
       "      <th></th>\n",
       "      <th>WAP001</th>\n",
       "      <th>WAP002</th>\n",
       "      <th>WAP003</th>\n",
       "      <th>WAP004</th>\n",
       "      <th>WAP005</th>\n",
       "      <th>WAP006</th>\n",
       "      <th>WAP007</th>\n",
       "      <th>WAP008</th>\n",
       "      <th>WAP009</th>\n",
       "      <th>WAP010</th>\n",
       "      <th>...</th>\n",
       "      <th>LONGITUDE</th>\n",
       "      <th>LATITUDE</th>\n",
       "      <th>FLOOR</th>\n",
       "      <th>BUILDINGID</th>\n",
       "      <th>SPACEID</th>\n",
       "      <th>RELATIVEPOSITION</th>\n",
       "      <th>USERID</th>\n",
       "      <th>PHONEID</th>\n",
       "      <th>TIMESTAMP</th>\n",
       "      <th>WAP_COUNT</th>\n",
       "    </tr>\n",
       "  </thead>\n",
       "  <tbody>\n",
       "    <tr>\n",
       "      <th>0</th>\n",
       "      <td>100</td>\n",
       "      <td>100</td>\n",
       "      <td>100</td>\n",
       "      <td>100</td>\n",
       "      <td>100</td>\n",
       "      <td>100</td>\n",
       "      <td>100</td>\n",
       "      <td>100</td>\n",
       "      <td>100</td>\n",
       "      <td>100</td>\n",
       "      <td>...</td>\n",
       "      <td>-7515.916799</td>\n",
       "      <td>4.864890e+06</td>\n",
       "      <td>1</td>\n",
       "      <td>1</td>\n",
       "      <td>0</td>\n",
       "      <td>0</td>\n",
       "      <td>0</td>\n",
       "      <td>0</td>\n",
       "      <td>1380872703</td>\n",
       "      <td>1</td>\n",
       "    </tr>\n",
       "    <tr>\n",
       "      <th>1</th>\n",
       "      <td>100</td>\n",
       "      <td>100</td>\n",
       "      <td>100</td>\n",
       "      <td>100</td>\n",
       "      <td>100</td>\n",
       "      <td>100</td>\n",
       "      <td>100</td>\n",
       "      <td>100</td>\n",
       "      <td>100</td>\n",
       "      <td>100</td>\n",
       "      <td>...</td>\n",
       "      <td>-7383.867221</td>\n",
       "      <td>4.864840e+06</td>\n",
       "      <td>4</td>\n",
       "      <td>2</td>\n",
       "      <td>0</td>\n",
       "      <td>0</td>\n",
       "      <td>0</td>\n",
       "      <td>13</td>\n",
       "      <td>1381155054</td>\n",
       "      <td>12</td>\n",
       "    </tr>\n",
       "    <tr>\n",
       "      <th>2</th>\n",
       "      <td>100</td>\n",
       "      <td>100</td>\n",
       "      <td>100</td>\n",
       "      <td>100</td>\n",
       "      <td>100</td>\n",
       "      <td>100</td>\n",
       "      <td>100</td>\n",
       "      <td>100</td>\n",
       "      <td>100</td>\n",
       "      <td>100</td>\n",
       "      <td>...</td>\n",
       "      <td>-7374.302080</td>\n",
       "      <td>4.864847e+06</td>\n",
       "      <td>4</td>\n",
       "      <td>2</td>\n",
       "      <td>0</td>\n",
       "      <td>0</td>\n",
       "      <td>0</td>\n",
       "      <td>13</td>\n",
       "      <td>1381155095</td>\n",
       "      <td>10</td>\n",
       "    </tr>\n",
       "    <tr>\n",
       "      <th>3</th>\n",
       "      <td>100</td>\n",
       "      <td>100</td>\n",
       "      <td>100</td>\n",
       "      <td>100</td>\n",
       "      <td>100</td>\n",
       "      <td>100</td>\n",
       "      <td>100</td>\n",
       "      <td>100</td>\n",
       "      <td>100</td>\n",
       "      <td>100</td>\n",
       "      <td>...</td>\n",
       "      <td>-7365.824883</td>\n",
       "      <td>4.864843e+06</td>\n",
       "      <td>4</td>\n",
       "      <td>2</td>\n",
       "      <td>0</td>\n",
       "      <td>0</td>\n",
       "      <td>0</td>\n",
       "      <td>13</td>\n",
       "      <td>1381155138</td>\n",
       "      <td>10</td>\n",
       "    </tr>\n",
       "    <tr>\n",
       "      <th>4</th>\n",
       "      <td>100</td>\n",
       "      <td>100</td>\n",
       "      <td>100</td>\n",
       "      <td>100</td>\n",
       "      <td>100</td>\n",
       "      <td>100</td>\n",
       "      <td>100</td>\n",
       "      <td>100</td>\n",
       "      <td>100</td>\n",
       "      <td>100</td>\n",
       "      <td>...</td>\n",
       "      <td>-7641.499303</td>\n",
       "      <td>4.864922e+06</td>\n",
       "      <td>2</td>\n",
       "      <td>0</td>\n",
       "      <td>0</td>\n",
       "      <td>0</td>\n",
       "      <td>0</td>\n",
       "      <td>2</td>\n",
       "      <td>1380877774</td>\n",
       "      <td>14</td>\n",
       "    </tr>\n",
       "  </tbody>\n",
       "</table>\n",
       "<p>5 rows × 530 columns</p>\n",
       "</div>"
      ],
      "text/plain": [
       "   WAP001  WAP002  WAP003  WAP004  WAP005  WAP006  WAP007  WAP008  WAP009  \\\n",
       "0     100     100     100     100     100     100     100     100     100   \n",
       "1     100     100     100     100     100     100     100     100     100   \n",
       "2     100     100     100     100     100     100     100     100     100   \n",
       "3     100     100     100     100     100     100     100     100     100   \n",
       "4     100     100     100     100     100     100     100     100     100   \n",
       "\n",
       "   WAP010  ...    LONGITUDE      LATITUDE  FLOOR  BUILDINGID  SPACEID  \\\n",
       "0     100  ... -7515.916799  4.864890e+06      1           1        0   \n",
       "1     100  ... -7383.867221  4.864840e+06      4           2        0   \n",
       "2     100  ... -7374.302080  4.864847e+06      4           2        0   \n",
       "3     100  ... -7365.824883  4.864843e+06      4           2        0   \n",
       "4     100  ... -7641.499303  4.864922e+06      2           0        0   \n",
       "\n",
       "   RELATIVEPOSITION  USERID  PHONEID   TIMESTAMP  WAP_COUNT  \n",
       "0                 0       0        0  1380872703          1  \n",
       "1                 0       0       13  1381155054         12  \n",
       "2                 0       0       13  1381155095         10  \n",
       "3                 0       0       13  1381155138         10  \n",
       "4                 0       0        2  1380877774         14  \n",
       "\n",
       "[5 rows x 530 columns]"
      ]
     },
     "execution_count": 14,
     "metadata": {},
     "output_type": "execute_result"
    }
   ],
   "source": [
    "# Test Data\n",
    "validation_raw['WAP_COUNT'] = validation_raw[validation_raw.iloc[:,:-9] != 100 ].count(axis=1)\n",
    "validation_raw.head()"
   ]
  },
  {
   "cell_type": "code",
   "execution_count": 15,
   "metadata": {
    "ExecuteTime": {
     "end_time": "2020-02-14T19:22:55.204027Z",
     "start_time": "2020-02-14T19:22:54.883451Z"
    }
   },
   "outputs": [
    {
     "data": {
      "text/html": [
       "<div>\n",
       "<style scoped>\n",
       "    .dataframe tbody tr th:only-of-type {\n",
       "        vertical-align: middle;\n",
       "    }\n",
       "\n",
       "    .dataframe tbody tr th {\n",
       "        vertical-align: top;\n",
       "    }\n",
       "\n",
       "    .dataframe thead th {\n",
       "        text-align: right;\n",
       "    }\n",
       "</style>\n",
       "<table border=\"1\" class=\"dataframe\">\n",
       "  <thead>\n",
       "    <tr style=\"text-align: right;\">\n",
       "      <th></th>\n",
       "      <th>Building 00</th>\n",
       "      <th>Building 01</th>\n",
       "      <th>Building 02</th>\n",
       "    </tr>\n",
       "  </thead>\n",
       "  <tbody>\n",
       "    <tr>\n",
       "      <th>0</th>\n",
       "      <td>NaN</td>\n",
       "      <td>17.0</td>\n",
       "      <td>NaN</td>\n",
       "    </tr>\n",
       "    <tr>\n",
       "      <th>1</th>\n",
       "      <td>NaN</td>\n",
       "      <td>16.0</td>\n",
       "      <td>NaN</td>\n",
       "    </tr>\n",
       "    <tr>\n",
       "      <th>2</th>\n",
       "      <td>NaN</td>\n",
       "      <td>15.0</td>\n",
       "      <td>NaN</td>\n",
       "    </tr>\n",
       "    <tr>\n",
       "      <th>3</th>\n",
       "      <td>NaN</td>\n",
       "      <td>16.0</td>\n",
       "      <td>NaN</td>\n",
       "    </tr>\n",
       "    <tr>\n",
       "      <th>4</th>\n",
       "      <td>0.0</td>\n",
       "      <td>NaN</td>\n",
       "      <td>NaN</td>\n",
       "    </tr>\n",
       "  </tbody>\n",
       "</table>\n",
       "</div>"
      ],
      "text/plain": [
       "   Building 00  Building 01  Building 02\n",
       "0          NaN         17.0          NaN\n",
       "1          NaN         16.0          NaN\n",
       "2          NaN         15.0          NaN\n",
       "3          NaN         16.0          NaN\n",
       "4          0.0          NaN          NaN"
      ]
     },
     "execution_count": 15,
     "metadata": {},
     "output_type": "execute_result"
    }
   ],
   "source": [
    "# BUILDING SUBSETTING FOR CHECKING DISTRIBUTION\n",
    "\n",
    "# Training Data\n",
    "Build00_train = training_raw[training_raw['BUILDINGID'] == 0]\n",
    "Build01_train = training_raw[training_raw['BUILDINGID'] == 1]\n",
    "Build02_train = training_raw[training_raw['BUILDINGID'] == 2]\n",
    "# Test Data\n",
    "Build00_valid = validation_raw[validation_raw['BUILDINGID'] == 0]\n",
    "Build01_valid = validation_raw[validation_raw['BUILDINGID'] == 1]\n",
    "Build02_valid = validation_raw[validation_raw['BUILDINGID'] == 2]\n",
    "\n",
    "#WAP counts per building - Training Data\n",
    "\n",
    "Building_WAP_train = pd.DataFrame({'Building 00': Build00_train['WAP_COUNT'],\n",
    "                                   'Building 01': Build01_train['WAP_COUNT'],\n",
    "                                   'Building 02': Build02_train['WAP_COUNT']},\n",
    "                                  columns=['Building 00',\n",
    "                                           'Building 01',\n",
    "                                           'Building 02'])\n",
    "\n",
    "Building_WAP_train.head()\n",
    "#Not all the buildings have observations from all the WAPS"
   ]
  },
  {
   "cell_type": "code",
   "execution_count": 16,
   "metadata": {
    "ExecuteTime": {
     "end_time": "2020-02-14T19:22:58.087748Z",
     "start_time": "2020-02-14T19:22:57.347019Z"
    }
   },
   "outputs": [
    {
     "data": {
      "image/png": "[encoded data removed]",
      "text/plain": [
       "<Figure size 720x360 with 1 Axes>"
      ]
     },
     "metadata": {
      "needs_background": "light"
     },
     "output_type": "display_data"
    }
   ],
   "source": [
    "Building_WAP_train.plot.hist(stacked=True,\n",
    "               figsize=(10,5),\n",
    "               alpha=0.75,\n",
    "               bins=25)\n",
    "\n",
    "plt.title(\"WAP's per building (trainingData)\", fontsize=18)\n",
    "plt.xlabel(\"detected WAP's per each row\" , fontsize=16)\n",
    "plt.ylabel('count', fontsize=16)\n",
    "plt.legend(loc='best')\n",
    "\n",
    "plt.show()"
   ]
  },
  {
   "cell_type": "code",
   "execution_count": 17,
   "metadata": {
    "ExecuteTime": {
     "end_time": "2020-02-14T19:23:00.700378Z",
     "start_time": "2020-02-14T19:23:00.023115Z"
    }
   },
   "outputs": [
    {
     "data": {
      "image/png": "[encoded data removed]",
      "text/plain": [
       "<Figure size 720x360 with 1 Axes>"
      ]
     },
     "metadata": {
      "needs_background": "light"
     },
     "output_type": "display_data"
    }
   ],
   "source": [
    "#WAP counts per building - Validation Data\n",
    "\n",
    "Building_WAP_valid = pd.DataFrame({'Building 00': Build00_valid['WAP_COUNT'],\n",
    "                                   'Building 01': Build01_valid['WAP_COUNT'],\n",
    "                                   'Building 02': Build02_valid['WAP_COUNT']},\n",
    "                                  columns=['Building 00',\n",
    "                                           'Building 01',\n",
    "                                           'Building 02'])\n",
    "\n",
    "Building_WAP_valid.plot.hist(stacked=True,\n",
    "               figsize=(10,5),\n",
    "               alpha=0.75,\n",
    "               bins=25)\n",
    "\n",
    "plt.title(\"WAP's per building (trainingData)\", fontsize=18)\n",
    "plt.xlabel(\"detected WAP's per each row\" , fontsize=16)\n",
    "plt.ylabel('count', fontsize=16)\n",
    "plt.legend(loc='best')\n",
    "\n",
    "plt.show()"
   ]
  },
  {
   "cell_type": "markdown",
   "metadata": {
    "ExecuteTime": {
     "end_time": "2020-02-13T10:51:13.052310Z",
     "start_time": "2020-02-13T10:51:12.892148Z"
    }
   },
   "source": [
    "# Pre-processing"
   ]
  },
  {
   "cell_type": "markdown",
   "metadata": {},
   "source": [
    "**There are several things that will be adressed in the pre-processing part:**\n",
    "- The WAPS and the observations that are alway 100 (no detection) will be removed\n",
    "- Duplicated will be removed\n",
    "- Downsampling will be performed to balance the building observations\n",
    "- Near zero variance WAPS will be removed (they always detect the same area)\n",
    "- Outliers will be analyzed and removed\n",
    "- Data will be re-scaled to positive numbers\n",
    "- Normalization over the rows is performed\n",
    "- Principal component analysis is done with the objective of minimize the computing time\n",
    "\n",
    "**Notes:**\n",
    "\n",
    "- WAPS are measured in RSSI (dBm), which is a logarithm scale. Power transformation to mW was tried, following the next equation:\n",
    "\n",
    "&nbsp;&nbsp;&nbsp;&nbsp;&nbsp;&nbsp;$P(mW)=1mW*10^{P(dBm)/10}$\n",
    "\n",
    "&nbsp;&nbsp;&nbsp;&nbsp;&nbsp;&nbsp;However, the results were not as expected, and it was not included in this report. More info:\n",
    "<br>\n",
    "&nbsp;&nbsp;&nbsp;&nbsp;&nbsp;&nbsp;(https://iotandelectronics.wordpress.com/2016/10/07/how-to-calculate-distance-from-the-rssi-value-of-the-ble-beacon/)\n",
    "- Due to the high skewness of the WAPS, it os logical to thing that a method that normalization and standarization is not optimum, since it affects to outliers. Therefore, minmaxscaler function was tested. However, normalization yielded better results"
   ]
  },
  {
   "cell_type": "code",
   "execution_count": null,
   "metadata": {},
   "outputs": [],
   "source": [
    "#For the final TEST SET WE WILL DO THIS:\n",
    "# Select 80% of the validation data and add to training to enrich training data\n",
    "#val_80 = val.sample(frac = 0.80, random_state = 0)\n",
    "#train = train.append(val_80)\n",
    "\n",
    "# Remove that 80% from the validation data\n",
    "#val = pd.concat([val, val_80]).drop_duplicates(keep=False)\n",
    "\n",
    "# Reset index for both data frames\n",
    "#train.reset_index(drop = True, inplace = True)\n",
    "#val.reset_index(drop = True, inplace = True)"
   ]
  },
  {
   "cell_type": "markdown",
   "metadata": {},
   "source": [
    "## WAPS 100 removal "
   ]
  },
  {
   "cell_type": "code",
   "execution_count": 4,
   "metadata": {
    "ExecuteTime": {
     "end_time": "2020-02-16T10:12:52.177932Z",
     "start_time": "2020-02-16T10:12:51.570296Z"
    }
   },
   "outputs": [
    {
     "name": "stdout",
     "output_type": "stream",
     "text": [
      "Columns with only 100 WAPS (Training): 55\n",
      "Columns with only 100 WAPS (Validation): 153\n",
      "Rows with only 100 WAPS (Training): 76\n",
      "Rows with only 100 WAPS (Validation): 0\n",
      "After column removal: (19937, 474)\n",
      "After row removal: (19861, 474)\n"
     ]
    }
   ],
   "source": [
    "validation_clean = validation_raw.copy()\n",
    "\n",
    "# Identification of the WAP columns with only 100 Signal Strengh \n",
    "\n",
    "# Training dataset\n",
    "train_column_select = np.sum(training_raw, axis=0) #Iterating over the columns\n",
    "train_column_select = train_column_select[train_column_select == 1993700]\n",
    "#If all the rows have 100, the 19937 rows will be this value\n",
    "print(\"Columns with only 100 WAPS (Training):\", train_column_select.count())\n",
    "\n",
    "# Test dataset\n",
    "valid_column_select = np.sum(validation_raw,axis=0)\n",
    "valid_column_select = valid_column_select[valid_column_select == 111100]\n",
    "print(\"Columns with only 100 WAPS (Validation):\", valid_column_select.count())\n",
    "\n",
    "# Training dataset\n",
    "train_row_select = training_raw.iloc[:,0:520]\n",
    "train_row_select = np.sum(train_row_select, axis=1)\n",
    "train_row_select = train_row_select[train_row_select == 52000]\n",
    "print ('Rows with only 100 WAPS (Training):', train_row_select.count())\n",
    "\n",
    "# Test dataset\n",
    "valid_row_select = validation_raw.iloc[:,0:520]\n",
    "valid_row_select = np.sum(valid_row_select, axis=1)\n",
    "valid_row_select = valid_row_select[valid_row_select == 52000]\n",
    "print ('Rows with only 100 WAPS (Validation):', valid_row_select.count())\n",
    "\n",
    "# Remove the columns\n",
    "\n",
    "# Training dataset\n",
    "training_clean = training_raw[training_raw.columns[training_raw.sum() != 1993700]]\n",
    "print(\"After column removal:\", training_clean.shape)\n",
    "#After the downsampling, this is not needed\n",
    "\n",
    "# Remove the rows\n",
    "\n",
    "# Training dataset\n",
    "training_clean.columns.get_loc(\"LONGITUDE\")\n",
    "training_row_cleaning = training_clean.iloc[:,0:465]\n",
    "training_row_cleaning['rows'] = np.sum(training_row_cleaning, axis=1)\n",
    "training_clean = training_clean.drop(training_clean.index[training_row_cleaning.rows == 46500]) #Without the inplace the order will not be effective\n",
    "print(\"After row removal:\", training_clean.shape)\n"
   ]
  },
  {
   "cell_type": "markdown",
   "metadata": {},
   "source": [
    "## Remove duplicates"
   ]
  },
  {
   "cell_type": "code",
   "execution_count": 5,
   "metadata": {
    "ExecuteTime": {
     "end_time": "2020-02-16T10:12:57.200653Z",
     "start_time": "2020-02-16T10:12:56.863752Z"
    }
   },
   "outputs": [
    {
     "name": "stdout",
     "output_type": "stream",
     "text": [
      "After duplicates removal: (19227, 474)\n"
     ]
    }
   ],
   "source": [
    "# %% REMOVE DUPLICATE ROWS\n",
    "\n",
    "# Training dataset\n",
    "training_clean = training_clean.drop_duplicates()\n",
    "\n",
    "# Test dataset\n",
    "validation_clean = validation_clean.drop_duplicates()\n",
    "\n",
    "print(\"After duplicates removal:\", training_clean.shape)"
   ]
  },
  {
   "cell_type": "markdown",
   "metadata": {},
   "source": [
    "## Downsampling"
   ]
  },
  {
   "cell_type": "code",
   "execution_count": 6,
   "metadata": {
    "ExecuteTime": {
     "end_time": "2020-02-16T10:13:00.270731Z",
     "start_time": "2020-02-16T10:12:59.669705Z"
    }
   },
   "outputs": [
    {
     "name": "stdout",
     "output_type": "stream",
     "text": [
      "Before Downsampling\n"
     ]
    },
    {
     "data": {
      "image/png": "[encoded data removed]",
      "text/plain": [
       "<Figure size 432x288 with 1 Axes>"
      ]
     },
     "metadata": {
      "needs_background": "light"
     },
     "output_type": "display_data"
    },
    {
     "name": "stdout",
     "output_type": "stream",
     "text": [
      "After Downsampling\n"
     ]
    },
    {
     "data": {
      "image/png": "[encoded data removed]",
      "text/plain": [
       "<Figure size 432x288 with 1 Axes>"
      ]
     },
     "metadata": {
      "needs_background": "light"
     },
     "output_type": "display_data"
    }
   ],
   "source": [
    "# %% DOWNSAMPLING BUILDING ON TRAINING SET\n",
    "\n",
    "training_clean.groupby(\"BUILDINGID\").size().plot(\n",
    "    kind=\"bar\")  # We still have downsampling\n",
    "print(\"Before Downsampling\")\n",
    "plt.show()\n",
    "# Size of the Building with lowest obervations\n",
    "sample_size = training_clean.groupby(\"BUILDINGID\").size().min()\n",
    "\n",
    "# Building subsettting\n",
    "Build00_train = training_clean[training_clean['BUILDINGID'] == 0]\n",
    "Build01_train = training_clean[training_clean['BUILDINGID'] == 1]\n",
    "Build02_train = training_clean[training_clean['BUILDINGID'] == 2]\n",
    "\n",
    "# Downsample the building with most observations\n",
    "Build02_downsampled = resample(Build02_train, replace=False, n_samples=sample_size,\n",
    "                               random_state=3)\n",
    "\n",
    "# Reagrupate the data\n",
    "training_downsample = pd.concat(\n",
    "    [Build00_train, Build01_train, Build02_downsampled])\n",
    "# Verify\n",
    "print(\"After Downsampling\")\n",
    "training_downsample.groupby(\"BUILDINGID\").size().plot(kind=\"bar\")\n",
    "plt.show()"
   ]
  },
  {
   "cell_type": "markdown",
   "metadata": {},
   "source": [
    "## Remove low variance WAPS"
   ]
  },
  {
   "cell_type": "code",
   "execution_count": 7,
   "metadata": {
    "ExecuteTime": {
     "end_time": "2020-02-16T10:13:05.979839Z",
     "start_time": "2020-02-16T10:13:03.220628Z"
    }
   },
   "outputs": [
    {
     "name": "stdout",
     "output_type": "stream",
     "text": [
      "Before Removing low variance WAPS: (15053, 474)\n",
      "After Removing low variance WAPS: (15053, 417)\n"
     ]
    }
   ],
   "source": [
    "#%% VARIANCE OF THE WAPS\n",
    "\n",
    "training_clean=training_downsample.copy()\n",
    "print(\"Before Removing low variance WAPS:\", training_clean.shape)\n",
    "# Training dataset\n",
    "COLUMN_NAMES=[]\n",
    "train_var = pd.DataFrame(columns=COLUMN_NAMES)\n",
    "train_var['variance'] = training_clean.var(axis=0)\n",
    "train_var.describe()\n",
    "#train_var.drop(train_var.index[465:476], inplace=True)\n",
    "\n",
    "# Transpose the column with row\n",
    "\n",
    "# Training dataset\n",
    "train_var_trans = train_var.T\n",
    "train_var_trans.dtypes\n",
    "train_var_trans = train_var_trans.astype('int')\n",
    "\n",
    "#Set variance threshold (less than 20 - it give us Boolean) \n",
    "#and combine it with the main dataset\n",
    "\n",
    "train_var_trans = train_var_trans.iloc[-1:,:] < 10 \n",
    "#Iterate over the last row of the dataframe\n",
    "#If I do not put the last \",:\" I get a series (row form data set)\n",
    "#Moreover, if I put the row name variance it does not work\n",
    "\n",
    "train_combine= pd.concat([train_var_trans, training_clean]) #With this appear as the first\n",
    "#train_combine_test2 = training_clean.append(train_var_trans) #With this appear at the end\n",
    "\n",
    "#Replace all 1 with NaN\n",
    "train_combine.columns.get_loc(\"LONGITUDE\") #475-465\n",
    "train_combine.iloc[:,:-10] = train_combine.replace(to_replace=1, value=np.nan)\n",
    "\n",
    "#Remove all column with NaN\n",
    "train_combine.dropna(axis=1, inplace = True)\n",
    "\n",
    "#Remove row variance\n",
    "train_combine = train_combine.drop(train_combine.index[0])\n",
    "\n",
    "#Cleaned data asigment\n",
    "train_clean = train_combine.copy()\n",
    "print(\"After Removing low variance WAPS:\", train_clean.shape)\n"
   ]
  },
  {
   "cell_type": "code",
   "execution_count": 8,
   "metadata": {
    "ExecuteTime": {
     "end_time": "2020-02-16T10:13:15.049533Z",
     "start_time": "2020-02-16T10:13:14.987539Z"
    }
   },
   "outputs": [
    {
     "data": {
      "text/plain": [
       "0      2013-10-04 07:45:03\n",
       "1      2013-10-07 14:10:54\n",
       "2      2013-10-07 14:11:35\n",
       "3      2013-10-07 14:12:18\n",
       "4      2013-10-04 09:09:34\n",
       "               ...        \n",
       "1106   2013-10-07 14:38:31\n",
       "1107   2013-10-07 14:38:50\n",
       "1108   2013-10-08 15:56:21\n",
       "1109   2013-10-08 15:56:47\n",
       "1110   2013-10-08 15:57:16\n",
       "Name: TIMESTAMP, Length: 1111, dtype: datetime64[ns]"
      ]
     },
     "execution_count": 8,
     "metadata": {},
     "output_type": "execute_result"
    }
   ],
   "source": [
    "#%% TIMESTAMP\n",
    "#The unix time stamp is a way to track time as a running total of seconds. This count starts at the Unix Epoch \n",
    "#on January 1st, 1970 at UTC. Therefore, the unix time stamp is merely the number of seconds between a particular \n",
    "#date and the Unix Epoch\n",
    "\n",
    "train_clean['TIMESTAMP'] = pd.to_datetime(train_clean['TIMESTAMP'], unit='s')\n",
    "train_clean.TIMESTAMP\n",
    "\n",
    "# Test dataset\n",
    "validation_clean['TIMESTAMP'] = pd.to_datetime(validation_clean['TIMESTAMP'], unit='s')\n",
    "validation_clean.TIMESTAMP\n"
   ]
  },
  {
   "cell_type": "markdown",
   "metadata": {},
   "source": [
    "### Data splitting before data transformation"
   ]
  },
  {
   "cell_type": "code",
   "execution_count": 26,
   "metadata": {
    "ExecuteTime": {
     "end_time": "2020-02-14T19:32:52.460342Z",
     "start_time": "2020-02-14T19:32:52.430219Z"
    }
   },
   "outputs": [
    {
     "data": {
      "text/plain": [
       "<bound method NDFrame.head of        WAP001  WAP002  WAP005  WAP006  WAP007  WAP008  WAP009  WAP010  WAP011  \\\n",
       "7119      100     100     100     100     100     100     100     100     100   \n",
       "7120      100     100     100     100     100     100     100     100     100   \n",
       "7121      100     100     100     100     100     100     100     100     100   \n",
       "7122      100     100     100     100     100     100     100     100     100   \n",
       "7123      100     100     100     100     100     100     100     100     100   \n",
       "...       ...     ...     ...     ...     ...     ...     ...     ...     ...   \n",
       "19145     100     100     100     100     100     100     100     100     100   \n",
       "14216     100     100     100     100     100     100     100     100     100   \n",
       "14922     100     100     100     100     100     100     100     100     100   \n",
       "15421     100     100     100     100     100     100     100     100     100   \n",
       "19253     100     100     100     100     100     100     100     100     100   \n",
       "\n",
       "       WAP012  ...    LONGITUDE      LATITUDE  FLOOR  BUILDINGID  SPACEID  \\\n",
       "7119      100  ... -7637.257000  4.864950e+06      0           0      102   \n",
       "7120      100  ... -7628.134500  4.864977e+06      0           0      110   \n",
       "7121      100  ... -7622.054600  4.864976e+06      0           0      111   \n",
       "7122      100  ... -7636.205700  4.864967e+06      0           0      107   \n",
       "7123      100  ... -7633.729500  4.864965e+06      0           0      106   \n",
       "...       ...  ...          ...           ...    ...         ...      ...   \n",
       "19145     100  ... -7323.550654  4.864828e+06      1           2      112   \n",
       "14216     100  ... -7314.132500  4.864817e+06      2           2      115   \n",
       "14922     100  ... -7349.546000  4.864836e+06      1           2      110   \n",
       "15421     100  ... -7353.723400  4.864834e+06      1           2      121   \n",
       "19253     100  ... -7390.548551  4.864840e+06      0           2      133   \n",
       "\n",
       "       RELATIVEPOSITION  USERID  PHONEID           TIMESTAMP  WAP_COUNT  \n",
       "7119                  2      11       13 2013-05-30 10:15:51         13  \n",
       "7120                  2      11       13 2013-05-30 10:18:27         13  \n",
       "7121                  2      11       13 2013-05-30 10:19:26         15  \n",
       "7122                  2      11       13 2013-05-30 10:16:51          9  \n",
       "7123                  2      11       13 2013-05-30 10:17:36         11  \n",
       "...                 ...     ...      ...                 ...        ...  \n",
       "19145                 1      15       11 2013-06-20 10:16:50         23  \n",
       "14216                 2      14        7 2013-06-20 08:08:13         26  \n",
       "14922                 2      16       14 2013-06-20 09:32:15         12  \n",
       "15421                 2      16       14 2013-06-20 09:25:00         26  \n",
       "19253                 1      17       22 2013-06-20 09:23:33          7  \n",
       "\n",
       "[15053 rows x 417 columns]>"
      ]
     },
     "execution_count": 26,
     "metadata": {},
     "output_type": "execute_result"
    }
   ],
   "source": [
    "train_clean.head"
   ]
  },
  {
   "cell_type": "code",
   "execution_count": 9,
   "metadata": {
    "ExecuteTime": {
     "end_time": "2020-02-16T10:13:22.244821Z",
     "start_time": "2020-02-16T10:13:22.188955Z"
    }
   },
   "outputs": [
    {
     "data": {
      "text/html": [
       "<div>\n",
       "<style scoped>\n",
       "    .dataframe tbody tr th:only-of-type {\n",
       "        vertical-align: middle;\n",
       "    }\n",
       "\n",
       "    .dataframe tbody tr th {\n",
       "        vertical-align: top;\n",
       "    }\n",
       "\n",
       "    .dataframe thead th {\n",
       "        text-align: right;\n",
       "    }\n",
       "</style>\n",
       "<table border=\"1\" class=\"dataframe\">\n",
       "  <thead>\n",
       "    <tr style=\"text-align: right;\">\n",
       "      <th></th>\n",
       "      <th>LONGITUDE</th>\n",
       "      <th>LATITUDE</th>\n",
       "      <th>FLOOR</th>\n",
       "      <th>BUILDINGID</th>\n",
       "      <th>SPACEID</th>\n",
       "      <th>RELATIVEPOSITION</th>\n",
       "      <th>USERID</th>\n",
       "      <th>PHONEID</th>\n",
       "      <th>TIMESTAMP</th>\n",
       "    </tr>\n",
       "  </thead>\n",
       "  <tbody>\n",
       "    <tr>\n",
       "      <th>0</th>\n",
       "      <td>-7515.916799</td>\n",
       "      <td>4.864890e+06</td>\n",
       "      <td>1</td>\n",
       "      <td>1</td>\n",
       "      <td>0</td>\n",
       "      <td>0</td>\n",
       "      <td>0</td>\n",
       "      <td>0</td>\n",
       "      <td>2013-10-04 07:45:03</td>\n",
       "    </tr>\n",
       "    <tr>\n",
       "      <th>1</th>\n",
       "      <td>-7383.867221</td>\n",
       "      <td>4.864840e+06</td>\n",
       "      <td>4</td>\n",
       "      <td>2</td>\n",
       "      <td>0</td>\n",
       "      <td>0</td>\n",
       "      <td>0</td>\n",
       "      <td>13</td>\n",
       "      <td>2013-10-07 14:10:54</td>\n",
       "    </tr>\n",
       "    <tr>\n",
       "      <th>2</th>\n",
       "      <td>-7374.302080</td>\n",
       "      <td>4.864847e+06</td>\n",
       "      <td>4</td>\n",
       "      <td>2</td>\n",
       "      <td>0</td>\n",
       "      <td>0</td>\n",
       "      <td>0</td>\n",
       "      <td>13</td>\n",
       "      <td>2013-10-07 14:11:35</td>\n",
       "    </tr>\n",
       "    <tr>\n",
       "      <th>3</th>\n",
       "      <td>-7365.824883</td>\n",
       "      <td>4.864843e+06</td>\n",
       "      <td>4</td>\n",
       "      <td>2</td>\n",
       "      <td>0</td>\n",
       "      <td>0</td>\n",
       "      <td>0</td>\n",
       "      <td>13</td>\n",
       "      <td>2013-10-07 14:12:18</td>\n",
       "    </tr>\n",
       "    <tr>\n",
       "      <th>4</th>\n",
       "      <td>-7641.499303</td>\n",
       "      <td>4.864922e+06</td>\n",
       "      <td>2</td>\n",
       "      <td>0</td>\n",
       "      <td>0</td>\n",
       "      <td>0</td>\n",
       "      <td>0</td>\n",
       "      <td>2</td>\n",
       "      <td>2013-10-04 09:09:34</td>\n",
       "    </tr>\n",
       "    <tr>\n",
       "      <th>...</th>\n",
       "      <td>...</td>\n",
       "      <td>...</td>\n",
       "      <td>...</td>\n",
       "      <td>...</td>\n",
       "      <td>...</td>\n",
       "      <td>...</td>\n",
       "      <td>...</td>\n",
       "      <td>...</td>\n",
       "      <td>...</td>\n",
       "    </tr>\n",
       "    <tr>\n",
       "      <th>1106</th>\n",
       "      <td>-7317.344231</td>\n",
       "      <td>4.864796e+06</td>\n",
       "      <td>3</td>\n",
       "      <td>2</td>\n",
       "      <td>0</td>\n",
       "      <td>0</td>\n",
       "      <td>0</td>\n",
       "      <td>13</td>\n",
       "      <td>2013-10-07 14:38:31</td>\n",
       "    </tr>\n",
       "    <tr>\n",
       "      <th>1107</th>\n",
       "      <td>-7313.731120</td>\n",
       "      <td>4.864792e+06</td>\n",
       "      <td>3</td>\n",
       "      <td>2</td>\n",
       "      <td>0</td>\n",
       "      <td>0</td>\n",
       "      <td>0</td>\n",
       "      <td>13</td>\n",
       "      <td>2013-10-07 14:38:50</td>\n",
       "    </tr>\n",
       "    <tr>\n",
       "      <th>1108</th>\n",
       "      <td>-7637.535798</td>\n",
       "      <td>4.864903e+06</td>\n",
       "      <td>0</td>\n",
       "      <td>0</td>\n",
       "      <td>0</td>\n",
       "      <td>0</td>\n",
       "      <td>0</td>\n",
       "      <td>13</td>\n",
       "      <td>2013-10-08 15:56:21</td>\n",
       "    </tr>\n",
       "    <tr>\n",
       "      <th>1109</th>\n",
       "      <td>-7636.654005</td>\n",
       "      <td>4.864905e+06</td>\n",
       "      <td>0</td>\n",
       "      <td>0</td>\n",
       "      <td>0</td>\n",
       "      <td>0</td>\n",
       "      <td>0</td>\n",
       "      <td>13</td>\n",
       "      <td>2013-10-08 15:56:47</td>\n",
       "    </tr>\n",
       "    <tr>\n",
       "      <th>1110</th>\n",
       "      <td>-7637.944120</td>\n",
       "      <td>4.864904e+06</td>\n",
       "      <td>0</td>\n",
       "      <td>0</td>\n",
       "      <td>0</td>\n",
       "      <td>0</td>\n",
       "      <td>0</td>\n",
       "      <td>13</td>\n",
       "      <td>2013-10-08 15:57:16</td>\n",
       "    </tr>\n",
       "  </tbody>\n",
       "</table>\n",
       "<p>1111 rows × 9 columns</p>\n",
       "</div>"
      ],
      "text/plain": [
       "        LONGITUDE      LATITUDE  FLOOR  BUILDINGID  SPACEID  RELATIVEPOSITION  \\\n",
       "0    -7515.916799  4.864890e+06      1           1        0                 0   \n",
       "1    -7383.867221  4.864840e+06      4           2        0                 0   \n",
       "2    -7374.302080  4.864847e+06      4           2        0                 0   \n",
       "3    -7365.824883  4.864843e+06      4           2        0                 0   \n",
       "4    -7641.499303  4.864922e+06      2           0        0                 0   \n",
       "...           ...           ...    ...         ...      ...               ...   \n",
       "1106 -7317.344231  4.864796e+06      3           2        0                 0   \n",
       "1107 -7313.731120  4.864792e+06      3           2        0                 0   \n",
       "1108 -7637.535798  4.864903e+06      0           0        0                 0   \n",
       "1109 -7636.654005  4.864905e+06      0           0        0                 0   \n",
       "1110 -7637.944120  4.864904e+06      0           0        0                 0   \n",
       "\n",
       "      USERID  PHONEID           TIMESTAMP  \n",
       "0          0        0 2013-10-04 07:45:03  \n",
       "1          0       13 2013-10-07 14:10:54  \n",
       "2          0       13 2013-10-07 14:11:35  \n",
       "3          0       13 2013-10-07 14:12:18  \n",
       "4          0        2 2013-10-04 09:09:34  \n",
       "...      ...      ...                 ...  \n",
       "1106       0       13 2013-10-07 14:38:31  \n",
       "1107       0       13 2013-10-07 14:38:50  \n",
       "1108       0       13 2013-10-08 15:56:21  \n",
       "1109       0       13 2013-10-08 15:56:47  \n",
       "1110       0       13 2013-10-08 15:57:16  \n",
       "\n",
       "[1111 rows x 9 columns]"
      ]
     },
     "execution_count": 9,
     "metadata": {},
     "output_type": "execute_result"
    }
   ],
   "source": [
    "\n",
    "#FROM NOW ON, THE DATA WILL REALLY CHANGE, EVERYTHING WILL NEED TO BE APPLIED TO THE TEST DATASET\n",
    "\n",
    "#Independent variables\n",
    "X_train = train_clean.iloc[:,:-9] #iloc is index location i.e. row number #get all rows for columns until 520\n",
    "X_validation = validation_clean.iloc[:,:-9] \n",
    "\n",
    "#To ensure to have the same columns!!!!!\n",
    "X_validation = X_validation[X_train.columns]\n",
    "\n",
    "#Dependent variables\n",
    "Y_train = train_clean.iloc[:,-9:len(train_clean)]\n",
    "Y_validation = validation_clean.iloc[:,-9:len(train_clean)]\n",
    "\n",
    "Y_validation"
   ]
  },
  {
   "cell_type": "code",
   "execution_count": 12,
   "metadata": {
    "ExecuteTime": {
     "end_time": "2020-02-16T10:14:15.497289Z",
     "start_time": "2020-02-16T10:14:15.468367Z"
    }
   },
   "outputs": [
    {
     "data": {
      "text/html": [
       "<div>\n",
       "<style scoped>\n",
       "    .dataframe tbody tr th:only-of-type {\n",
       "        vertical-align: middle;\n",
       "    }\n",
       "\n",
       "    .dataframe tbody tr th {\n",
       "        vertical-align: top;\n",
       "    }\n",
       "\n",
       "    .dataframe thead th {\n",
       "        text-align: right;\n",
       "    }\n",
       "</style>\n",
       "<table border=\"1\" class=\"dataframe\">\n",
       "  <thead>\n",
       "    <tr style=\"text-align: right;\">\n",
       "      <th></th>\n",
       "      <th>LONGITUDE</th>\n",
       "      <th>LATITUDE</th>\n",
       "      <th>FLOOR</th>\n",
       "      <th>BUILDINGID</th>\n",
       "    </tr>\n",
       "  </thead>\n",
       "  <tbody>\n",
       "    <tr>\n",
       "      <th>7119</th>\n",
       "      <td>-7637.257000</td>\n",
       "      <td>4.864950e+06</td>\n",
       "      <td>0</td>\n",
       "      <td>0</td>\n",
       "    </tr>\n",
       "    <tr>\n",
       "      <th>7120</th>\n",
       "      <td>-7628.134500</td>\n",
       "      <td>4.864977e+06</td>\n",
       "      <td>0</td>\n",
       "      <td>0</td>\n",
       "    </tr>\n",
       "    <tr>\n",
       "      <th>7121</th>\n",
       "      <td>-7622.054600</td>\n",
       "      <td>4.864976e+06</td>\n",
       "      <td>0</td>\n",
       "      <td>0</td>\n",
       "    </tr>\n",
       "    <tr>\n",
       "      <th>7122</th>\n",
       "      <td>-7636.205700</td>\n",
       "      <td>4.864967e+06</td>\n",
       "      <td>0</td>\n",
       "      <td>0</td>\n",
       "    </tr>\n",
       "    <tr>\n",
       "      <th>7123</th>\n",
       "      <td>-7633.729500</td>\n",
       "      <td>4.864965e+06</td>\n",
       "      <td>0</td>\n",
       "      <td>0</td>\n",
       "    </tr>\n",
       "    <tr>\n",
       "      <th>...</th>\n",
       "      <td>...</td>\n",
       "      <td>...</td>\n",
       "      <td>...</td>\n",
       "      <td>...</td>\n",
       "    </tr>\n",
       "    <tr>\n",
       "      <th>19145</th>\n",
       "      <td>-7323.550654</td>\n",
       "      <td>4.864828e+06</td>\n",
       "      <td>1</td>\n",
       "      <td>2</td>\n",
       "    </tr>\n",
       "    <tr>\n",
       "      <th>14216</th>\n",
       "      <td>-7314.132500</td>\n",
       "      <td>4.864817e+06</td>\n",
       "      <td>2</td>\n",
       "      <td>2</td>\n",
       "    </tr>\n",
       "    <tr>\n",
       "      <th>14922</th>\n",
       "      <td>-7349.546000</td>\n",
       "      <td>4.864836e+06</td>\n",
       "      <td>1</td>\n",
       "      <td>2</td>\n",
       "    </tr>\n",
       "    <tr>\n",
       "      <th>15421</th>\n",
       "      <td>-7353.723400</td>\n",
       "      <td>4.864834e+06</td>\n",
       "      <td>1</td>\n",
       "      <td>2</td>\n",
       "    </tr>\n",
       "    <tr>\n",
       "      <th>19253</th>\n",
       "      <td>-7390.548551</td>\n",
       "      <td>4.864840e+06</td>\n",
       "      <td>0</td>\n",
       "      <td>2</td>\n",
       "    </tr>\n",
       "  </tbody>\n",
       "</table>\n",
       "<p>15053 rows × 4 columns</p>\n",
       "</div>"
      ],
      "text/plain": [
       "         LONGITUDE      LATITUDE FLOOR BUILDINGID\n",
       "7119  -7637.257000  4.864950e+06     0          0\n",
       "7120  -7628.134500  4.864977e+06     0          0\n",
       "7121  -7622.054600  4.864976e+06     0          0\n",
       "7122  -7636.205700  4.864967e+06     0          0\n",
       "7123  -7633.729500  4.864965e+06     0          0\n",
       "...            ...           ...   ...        ...\n",
       "19145 -7323.550654  4.864828e+06     1          2\n",
       "14216 -7314.132500  4.864817e+06     2          2\n",
       "14922 -7349.546000  4.864836e+06     1          2\n",
       "15421 -7353.723400  4.864834e+06     1          2\n",
       "19253 -7390.548551  4.864840e+06     0          2\n",
       "\n",
       "[15053 rows x 4 columns]"
      ]
     },
     "execution_count": 12,
     "metadata": {},
     "output_type": "execute_result"
    }
   ],
   "source": [
    "#Remove unnecessary colums\n",
    "\n",
    "# Training dataset\n",
    "y_training = Y_train.drop(['SPACEID', 'RELATIVEPOSITION', \n",
    "                                'USERID', 'PHONEID', 'TIMESTAMP'], axis=1)\n",
    "\n",
    "# Test dataset\n",
    "y_validation = Y_validation.drop(['SPACEID', 'RELATIVEPOSITION',\n",
    "                                    'USERID', 'PHONEID', 'TIMESTAMP'], axis=1)\n",
    "\n",
    "y_training.FLOOR = y_training.FLOOR.astype('category')\n",
    "y_training.BUILDINGID = y_training.BUILDINGID.astype('category')\n",
    "\n",
    "y_validation.FLOOR = y_validation.FLOOR.astype('category')\n",
    "y_validation.BUILDINGID = y_validation.BUILDINGID.astype('category')\n",
    "\n",
    "y_training"
   ]
  },
  {
   "cell_type": "markdown",
   "metadata": {},
   "source": [
    "## Checking Outliers"
   ]
  },
  {
   "cell_type": "markdown",
   "metadata": {},
   "source": [
    "According to:\n",
    "https://support.randomsolutions.nl/827069-Best-dBm-Values-for-Wifi\n",
    "https://www.metageek.com/training/resources/understanding-rssi.html\n",
    "\n",
    "The maximum achievable real strength corresponds to -30dBm, while the optimum signal corresponds to the range -40 and -60 dBm. We are going to check the distribution of signals of the WAP to obsever how the range between -30 and 0 dBm behaves."
   ]
  },
  {
   "cell_type": "code",
   "execution_count": 10,
   "metadata": {
    "ExecuteTime": {
     "end_time": "2020-02-16T10:13:48.956519Z",
     "start_time": "2020-02-16T10:13:36.084745Z"
    }
   },
   "outputs": [
    {
     "data": {
      "text/plain": [
       "<matplotlib.axes._subplots.AxesSubplot at 0x1c500088948>"
      ]
     },
     "execution_count": 10,
     "metadata": {},
     "output_type": "execute_result"
    },
    {
     "data": {
      "image/png": "[encoded data removed]",
      "text/plain": [
       "<Figure size 432x288 with 1 Axes>"
      ]
     },
     "metadata": {
      "needs_background": "light"
     },
     "output_type": "display_data"
    }
   ],
   "source": [
    "sns.boxplot(x=\"variable\", y=\"value\", data=pd.melt(X_train))"
   ]
  },
  {
   "cell_type": "markdown",
   "metadata": {},
   "source": [
    "From the distribution observed, it seems clear that the values above -30dBm are unusual, therefore, we will consider them as outliers and remove them"
   ]
  },
  {
   "cell_type": "code",
   "execution_count": 13,
   "metadata": {
    "ExecuteTime": {
     "end_time": "2020-02-16T10:14:54.501859Z",
     "start_time": "2020-02-16T10:14:39.361969Z"
    }
   },
   "outputs": [
    {
     "data": {
      "text/plain": [
       "<matplotlib.axes._subplots.AxesSubplot at 0x1c547885b48>"
      ]
     },
     "execution_count": 13,
     "metadata": {},
     "output_type": "execute_result"
    },
    {
     "data": {
      "image/png": "[encoded data removed]",
      "text/plain": [
       "<Figure size 432x288 with 1 Axes>"
      ]
     },
     "metadata": {
      "needs_background": "light"
     },
     "output_type": "display_data"
    }
   ],
   "source": [
    "#%% CHECKING OUTLIERS\n",
    "\n",
    "#Reset the index to avoid possible problems\n",
    "X_train.reset_index(drop = True, inplace = True)\n",
    "y_training.reset_index(drop = True, inplace = True)\n",
    "\n",
    "#Find the index where we have the outliers\n",
    "index_outliers = X_train[(X_train.iloc[:,:].values > -30) & (X_train.iloc[:,:].values <= 0)].index\n",
    "#Drop the observations of the outliers\n",
    "X_train = X_train.drop(X_train.index[index_outliers])\n",
    "#Drop the observation also in the Y_training\n",
    "y_training = Y_train.drop(Y_train.index[index_outliers])\n",
    "\n",
    "sns.boxplot(x=\"variable\", y=\"value\", data=pd.melt(X_train))"
   ]
  },
  {
   "cell_type": "markdown",
   "metadata": {},
   "source": [
    "## Data re-scaling"
   ]
  },
  {
   "cell_type": "code",
   "execution_count": 14,
   "metadata": {
    "ExecuteTime": {
     "end_time": "2020-02-16T10:14:55.178871Z",
     "start_time": "2020-02-16T10:14:55.066826Z"
    }
   },
   "outputs": [],
   "source": [
    "#%% CHANGING WAP SCALE\n",
    "\n",
    "X_train_scale = np.where(X_train <= 0, #If it is lower than 0\n",
    "                                     X_train + 105, #Sum 105\n",
    "                                     X_train - 100) #Otherwise, substract 100\n",
    "\n",
    "X_train_scale_df = pd.DataFrame(X_train_scale, columns = X_train.columns)\n",
    "\n",
    "X_validation_scale = np.where(X_validation <= 0, #If it is lower than 0\n",
    "                                     X_validation + 105, #Sum 105\n",
    "                                     X_validation - 100) #Otherwise, substract 100\n",
    "\n",
    "X_validation_scale_df = pd.DataFrame(X_validation_scale, columns = X_validation.columns)\n"
   ]
  },
  {
   "cell_type": "markdown",
   "metadata": {},
   "source": [
    "## Dimensionality Reduction"
   ]
  },
  {
   "cell_type": "code",
   "execution_count": 15,
   "metadata": {
    "ExecuteTime": {
     "end_time": "2020-02-16T10:14:55.952711Z",
     "start_time": "2020-02-16T10:14:55.883019Z"
    }
   },
   "outputs": [],
   "source": [
    "#%%DIMENSIONALITY REDUCTION\n",
    "\n",
    "#l2 normalization over rows\n",
    "normalizer = Normalizer()\n",
    "\n",
    "X_norm_train = normalizer.fit_transform(X_train_scale_df)\n",
    "X_norm_validation= normalizer.fit_transform(X_validation_scale_df)"
   ]
  },
  {
   "cell_type": "markdown",
   "metadata": {},
   "source": [
    "## Principal Component Analysis"
   ]
  },
  {
   "cell_type": "code",
   "execution_count": 16,
   "metadata": {
    "ExecuteTime": {
     "end_time": "2020-02-16T10:14:57.644024Z",
     "start_time": "2020-02-16T10:14:56.630977Z"
    }
   },
   "outputs": [
    {
     "name": "stdout",
     "output_type": "stream",
     "text": [
      "Before PCA: (14796, 408)\n",
      "After PCA: (14796, 189)\n"
     ]
    },
    {
     "data": {
      "image/png": "[encoded data removed]",
      "text/plain": [
       "<Figure size 432x288 with 1 Axes>"
      ]
     },
     "metadata": {
      "needs_background": "light"
     },
     "output_type": "display_data"
    }
   ],
   "source": [
    "#PCA reduces the dimensionality of the dataset to a handful of variables\n",
    "print(\"Before PCA:\", X_norm_train.shape)\n",
    "pca = PCA(.98) #98% of the variance is retained.\n",
    "pca.fit(X_norm_train)\n",
    "\n",
    "plt.plot(np.cumsum(pca.explained_variance_ratio_))\n",
    "plt.xlabel('number of components')\n",
    "plt.ylabel('cumulative explained variance');\n",
    "\n",
    "\n",
    "X_train_pca = pca.transform(X_norm_train)\n",
    "X_validation_pca = pca.transform(X_norm_validation)\n",
    "print(\"After PCA:\", X_train_pca.shape)\n",
    "\n",
    "#Variable renaming\n",
    "X_training=X_train_pca.copy()\n",
    "X_validation=X_validation_pca.copy()"
   ]
  },
  {
   "cell_type": "markdown",
   "metadata": {},
   "source": [
    "# Modelling"
   ]
  },
  {
   "cell_type": "markdown",
   "metadata": {},
   "source": [
    "- Different models were tried with the final data, including KNN, Random Forest, SVM, Logistic Regressiong and ....\n",
    "- The models were optimized throughotu RandomizedSearchSV.\n",
    "- The best models were used to make predictions over the Validation Dataset, and their metrics and error analysis will be subsequently showed.\n"
   ]
  },
  {
   "cell_type": "markdown",
   "metadata": {},
   "source": [
    "## Algorithms for the models"
   ]
  },
  {
   "cell_type": "code",
   "execution_count": 17,
   "metadata": {
    "ExecuteTime": {
     "end_time": "2020-02-16T10:15:03.444842Z",
     "start_time": "2020-02-16T10:15:03.085575Z"
    }
   },
   "outputs": [],
   "source": [
    "from sklearn.model_selection import GridSearchCV\n",
    "from sklearn.model_selection import RandomizedSearchCV\n",
    "\n",
    "from sklearn.neighbors import KNeighborsClassifier\n",
    "from sklearn.neighbors import KNeighborsRegressor\n",
    "\n",
    "from sklearn.ensemble import RandomForestRegressor\n",
    "from sklearn.ensemble import RandomForestClassifier\n",
    "\n",
    "from xgboost import XGBRegressor\n",
    "from xgboost import XGBClassifier\n",
    "\n",
    "from sklearn.svm import SVC\n",
    "from sklearn.svm import SVR\n",
    "\n",
    "from sklearn.metrics import accuracy_score\n",
    "from sklearn.metrics import cohen_kappa_score\n",
    "from sklearn.metrics import confusion_matrix\n",
    "from sklearn.metrics import classification_report\n",
    "\n",
    "from sklearn.metrics import r2_score\n",
    "from sklearn.metrics import mean_squared_error\n",
    "from sklearn.metrics import mean_absolute_error\n",
    "\n",
    "from math import sqrt"
   ]
  },
  {
   "cell_type": "markdown",
   "metadata": {},
   "source": [
    "## KNN"
   ]
  },
  {
   "cell_type": "code",
   "execution_count": 65,
   "metadata": {
    "ExecuteTime": {
     "end_time": "2020-02-14T21:40:43.387387Z",
     "start_time": "2020-02-14T21:40:43.383396Z"
    }
   },
   "outputs": [],
   "source": [
    "#%% DEFINE THE PARAMETER GRID FOR GRID SEARCH CV\n",
    "\n",
    "random_grid = {'n_neighbors': np.arange(2, 8)}"
   ]
  },
  {
   "cell_type": "code",
   "execution_count": 68,
   "metadata": {
    "ExecuteTime": {
     "end_time": "2020-02-14T21:57:59.369643Z",
     "start_time": "2020-02-14T21:41:31.748564Z"
    }
   },
   "outputs": [],
   "source": [
    "#%% KNN LOOP FOR ALL VARIABLES\n",
    "\n",
    "#Variable renaming\n",
    "X_training=X_train_pca.copy()\n",
    "X_validation=X_validation_pca.copy()\n",
    "\n",
    "#Be carefull with these functions, they work with df and no with arrays\n",
    "# Create function that selects output variables\n",
    "def get_y_var(df, y_list):\n",
    "    return df[y_list]\n",
    "\n",
    "# Create function that selects input variables\n",
    "def get_x_var(df, x_list):\n",
    "    return df[x_list]\n",
    "\n",
    "# Initialize data frame and library that will be used \n",
    "accuracy = {}\n",
    "kappa = {}\n",
    "conf_matrix_KNN = {}\n",
    "class_report_KNN= {}\n",
    "metrics_classification_KNN = [accuracy, kappa]\n",
    "mse = {}\n",
    "mae = {}\n",
    "r2 = {}\n",
    "rmse ={}\n",
    "metrics_regression_KNN = [mse, mae, r2, rmse]\n",
    "best_parameters_KNN = {}\n",
    "\n",
    "# Prediction log\n",
    "predictions_KNN = pd.DataFrame()\n",
    "\n",
    "# Select all variables that need prediction\n",
    "pred_var = [\"LONGITUDE\", \n",
    "            \"LATITUDE\", \n",
    "            \"FLOOR\", \n",
    "            \"BUILDINGID\"]\n",
    "\n",
    "# Select all variables that need regression\n",
    "reg_labels = [\"LONGITUDE\", \n",
    "              \"LATITUDE\"]\n",
    "\n",
    "# Loop over the predictor variables\n",
    "for i in pred_var:\n",
    "    # If i is label that requires regression, run regression else classification\n",
    "    if i in reg_labels:\n",
    "        # Select label you want to predict from train\n",
    "        training_y_reg = get_y_var(y_training, i)\n",
    "        # Select label you want to predict from validation\n",
    "        validation_y_reg = get_y_var(y_validation, i)        \n",
    "        # Initiate regressor\n",
    "        knn = KNeighborsRegressor()\n",
    "        #Grid Search CV\n",
    "        knn_random = GridSearchCV(estimator = knn, param_grid=random_grid, cv=3)\n",
    "        # Fit model with the best RF found\n",
    "        knn_random.fit(X_training, training_y_reg)\n",
    "        # Predict values for validation data\n",
    "        pred = knn_random.predict(X_validation) \n",
    "        # Write prediction to pred_\n",
    "        predictions_KNN[i] = pred        \n",
    "        # Estimate mse, mea, r^2 and write to library for relevant i\n",
    "        mse[i] = mean_squared_error(validation_y_reg, pred)\n",
    "        mae[i] = mean_absolute_error(validation_y_reg, pred)\n",
    "        r2[i] = r2_score(validation_y_reg, pred)\n",
    "        rmse[i] = sqrt(mean_squared_error(validation_y_reg, pred))\n",
    "        #Store the best parameters\n",
    "        best_parameters_KNN[i]=knn_random.best_params_\n",
    "        \n",
    "    else:\n",
    "        # Select label you want to predict from train\n",
    "        training_y_clf = get_y_var(y_training, i)\n",
    "        # Select label you want to predict from validation\n",
    "        validation_y_clf = get_y_var(y_validation, i)        \n",
    "        # Initiate classifier\n",
    "        knn = KNeighborsClassifier()\n",
    "        #Grid Search CV\n",
    "        knn_random = GridSearchCV(estimator = knn, param_grid=random_grid, cv=3)\n",
    "        # Fit model with the best RF found\n",
    "        knn_random.fit(X_training, training_y_clf)\n",
    "        # Predict values for validation data\n",
    "        pred = knn_random.predict(X_validation) \n",
    "        # Write prediction to pred_log\n",
    "        predictions_KNN[i] = pred        \n",
    "        # Estimate accuracy,kappa and confussion matrix and write to library for relevant i\n",
    "        accuracy[i] = accuracy_score(validation_y_clf, pred)\n",
    "        kappa[i] = cohen_kappa_score(validation_y_clf, pred)\n",
    "        conf_matrix_KNN[i] = confusion_matrix(validation_y_clf, pred)\n",
    "        class_report_KNN[i]=classification_report(validation_y_clf, pred)\n",
    "        #Store the best parameters\n",
    "        best_parameters_KNN[i]=knn_random.best_params_\n",
    "    \n",
    "\n",
    "metrics_regression_KNN = pd.DataFrame(metrics_regression_KNN, index=[\"mse\", \"mae\", \"r2\", \"rmse\"])\n",
    "metrics_classification_KNN = pd.DataFrame(metrics_classification_KNN, index=[\"accuracy\", \"kappa\"])"
   ]
  },
  {
   "cell_type": "markdown",
   "metadata": {},
   "source": [
    "### KNN Results"
   ]
  },
  {
   "cell_type": "code",
   "execution_count": 69,
   "metadata": {
    "ExecuteTime": {
     "end_time": "2020-02-14T21:58:55.413618Z",
     "start_time": "2020-02-14T21:58:55.402647Z"
    },
    "cell_style": "split"
   },
   "outputs": [
    {
     "data": {
      "text/html": [
       "<div>\n",
       "<style scoped>\n",
       "    .dataframe tbody tr th:only-of-type {\n",
       "        vertical-align: middle;\n",
       "    }\n",
       "\n",
       "    .dataframe tbody tr th {\n",
       "        vertical-align: top;\n",
       "    }\n",
       "\n",
       "    .dataframe thead th {\n",
       "        text-align: right;\n",
       "    }\n",
       "</style>\n",
       "<table border=\"1\" class=\"dataframe\">\n",
       "  <thead>\n",
       "    <tr style=\"text-align: right;\">\n",
       "      <th></th>\n",
       "      <th>LONGITUDE</th>\n",
       "      <th>LATITUDE</th>\n",
       "    </tr>\n",
       "  </thead>\n",
       "  <tbody>\n",
       "    <tr>\n",
       "      <th>mse</th>\n",
       "      <td>62.881616</td>\n",
       "      <td>51.062183</td>\n",
       "    </tr>\n",
       "    <tr>\n",
       "      <th>mae</th>\n",
       "      <td>5.105850</td>\n",
       "      <td>4.581345</td>\n",
       "    </tr>\n",
       "    <tr>\n",
       "      <th>r2</th>\n",
       "      <td>0.995644</td>\n",
       "      <td>0.989651</td>\n",
       "    </tr>\n",
       "    <tr>\n",
       "      <th>rmse</th>\n",
       "      <td>7.929793</td>\n",
       "      <td>7.145781</td>\n",
       "    </tr>\n",
       "  </tbody>\n",
       "</table>\n",
       "</div>"
      ],
      "text/plain": [
       "      LONGITUDE   LATITUDE\n",
       "mse   62.881616  51.062183\n",
       "mae    5.105850   4.581345\n",
       "r2     0.995644   0.989651\n",
       "rmse   7.929793   7.145781"
      ]
     },
     "execution_count": 69,
     "metadata": {},
     "output_type": "execute_result"
    }
   ],
   "source": [
    "metrics_regression_KNN"
   ]
  },
  {
   "cell_type": "code",
   "execution_count": 70,
   "metadata": {
    "ExecuteTime": {
     "end_time": "2020-02-14T21:59:04.337490Z",
     "start_time": "2020-02-14T21:59:04.328514Z"
    },
    "cell_style": "split"
   },
   "outputs": [
    {
     "data": {
      "text/html": [
       "<div>\n",
       "<style scoped>\n",
       "    .dataframe tbody tr th:only-of-type {\n",
       "        vertical-align: middle;\n",
       "    }\n",
       "\n",
       "    .dataframe tbody tr th {\n",
       "        vertical-align: top;\n",
       "    }\n",
       "\n",
       "    .dataframe thead th {\n",
       "        text-align: right;\n",
       "    }\n",
       "</style>\n",
       "<table border=\"1\" class=\"dataframe\">\n",
       "  <thead>\n",
       "    <tr style=\"text-align: right;\">\n",
       "      <th></th>\n",
       "      <th>FLOOR</th>\n",
       "      <th>BUILDINGID</th>\n",
       "    </tr>\n",
       "  </thead>\n",
       "  <tbody>\n",
       "    <tr>\n",
       "      <th>accuracy</th>\n",
       "      <td>0.936094</td>\n",
       "      <td>1.0</td>\n",
       "    </tr>\n",
       "    <tr>\n",
       "      <th>kappa</th>\n",
       "      <td>0.910386</td>\n",
       "      <td>1.0</td>\n",
       "    </tr>\n",
       "  </tbody>\n",
       "</table>\n",
       "</div>"
      ],
      "text/plain": [
       "             FLOOR  BUILDINGID\n",
       "accuracy  0.936094         1.0\n",
       "kappa     0.910386         1.0"
      ]
     },
     "execution_count": 70,
     "metadata": {},
     "output_type": "execute_result"
    }
   ],
   "source": [
    "metrics_classification_KNN"
   ]
  },
  {
   "cell_type": "code",
   "execution_count": 71,
   "metadata": {
    "ExecuteTime": {
     "end_time": "2020-02-14T21:59:22.395401Z",
     "start_time": "2020-02-14T21:59:22.389416Z"
    }
   },
   "outputs": [
    {
     "data": {
      "text/plain": [
       "{'LONGITUDE': {'n_neighbors': 6},\n",
       " 'LATITUDE': {'n_neighbors': 7},\n",
       " 'FLOOR': {'n_neighbors': 2},\n",
       " 'BUILDINGID': {'n_neighbors': 6}}"
      ]
     },
     "execution_count": 71,
     "metadata": {},
     "output_type": "execute_result"
    }
   ],
   "source": [
    "best_parameters_KNN"
   ]
  },
  {
   "cell_type": "code",
   "execution_count": 80,
   "metadata": {
    "ExecuteTime": {
     "end_time": "2020-02-14T22:03:09.581619Z",
     "start_time": "2020-02-14T22:03:09.575632Z"
    },
    "cell_style": "split"
   },
   "outputs": [
    {
     "name": "stdout",
     "output_type": "stream",
     "text": [
      "[[119   8   5   0   0]\n",
      " [  6 428  28   0   0]\n",
      " [  2   5 294   5   0]\n",
      " [  0   0   6 166   0]\n",
      " [  1   0   0   5  33]]\n"
     ]
    }
   ],
   "source": [
    "print(conf_matrix_KNN['FLOOR'])"
   ]
  },
  {
   "cell_type": "code",
   "execution_count": 81,
   "metadata": {
    "ExecuteTime": {
     "end_time": "2020-02-14T22:03:18.794727Z",
     "start_time": "2020-02-14T22:03:18.787745Z"
    },
    "cell_style": "split"
   },
   "outputs": [
    {
     "name": "stdout",
     "output_type": "stream",
     "text": [
      "[[536   0   0]\n",
      " [  0 307   0]\n",
      " [  0   0 268]]\n"
     ]
    }
   ],
   "source": [
    "print(conf_matrix_KNN['BUILDINGID'])"
   ]
  },
  {
   "cell_type": "code",
   "execution_count": 79,
   "metadata": {
    "ExecuteTime": {
     "end_time": "2020-02-14T22:02:58.587721Z",
     "start_time": "2020-02-14T22:02:58.581737Z"
    },
    "cell_style": "center"
   },
   "outputs": [
    {
     "name": "stdout",
     "output_type": "stream",
     "text": [
      "              precision    recall  f1-score   support\n",
      "\n",
      "           0       0.93      0.90      0.92       132\n",
      "           1       0.97      0.93      0.95       462\n",
      "           2       0.88      0.96      0.92       306\n",
      "           3       0.94      0.97      0.95       172\n",
      "           4       1.00      0.85      0.92        39\n",
      "\n",
      "    accuracy                           0.94      1111\n",
      "   macro avg       0.95      0.92      0.93      1111\n",
      "weighted avg       0.94      0.94      0.94      1111\n",
      "\n"
     ]
    }
   ],
   "source": [
    "print(class_report_KNN['FLOOR'])"
   ]
  },
  {
   "cell_type": "code",
   "execution_count": 83,
   "metadata": {
    "ExecuteTime": {
     "end_time": "2020-02-14T22:05:00.665183Z",
     "start_time": "2020-02-14T22:05:00.659198Z"
    },
    "cell_style": "center"
   },
   "outputs": [
    {
     "name": "stdout",
     "output_type": "stream",
     "text": [
      "              precision    recall  f1-score   support\n",
      "\n",
      "           0       1.00      1.00      1.00       536\n",
      "           1       1.00      1.00      1.00       307\n",
      "           2       1.00      1.00      1.00       268\n",
      "\n",
      "    accuracy                           1.00      1111\n",
      "   macro avg       1.00      1.00      1.00      1111\n",
      "weighted avg       1.00      1.00      1.00      1111\n",
      "\n"
     ]
    }
   ],
   "source": [
    "print(class_report_KNN['BUILDINGID'])"
   ]
  },
  {
   "cell_type": "markdown",
   "metadata": {},
   "source": [
    "## Random Forest"
   ]
  },
  {
   "cell_type": "code",
   "execution_count": 26,
   "metadata": {
    "ExecuteTime": {
     "end_time": "2020-02-15T11:24:19.630081Z",
     "start_time": "2020-02-15T11:24:19.621128Z"
    }
   },
   "outputs": [],
   "source": [
    "# Number of trees in random forest\n",
    "n_estimators = [int(x) for x in np.linspace(start = 100, stop = 1000, num = 10)]\n",
    "random_grid = {'n_estimators': n_estimators}"
   ]
  },
  {
   "cell_type": "code",
   "execution_count": 28,
   "metadata": {
    "ExecuteTime": {
     "end_time": "2020-02-15T15:46:09.620753Z",
     "start_time": "2020-02-15T11:29:45.898436Z"
    }
   },
   "outputs": [
    {
     "name": "stdout",
     "output_type": "stream",
     "text": [
      "Fitting 3 folds for each of 7 candidates, totalling 21 fits\n"
     ]
    },
    {
     "name": "stderr",
     "output_type": "stream",
     "text": [
      "[Parallel(n_jobs=-1)]: Using backend LokyBackend with 8 concurrent workers.\n",
      "[Parallel(n_jobs=-1)]: Done  17 out of  21 | elapsed: 68.3min remaining: 16.1min\n",
      "[Parallel(n_jobs=-1)]: Done  21 out of  21 | elapsed: 89.2min finished\n"
     ]
    },
    {
     "name": "stdout",
     "output_type": "stream",
     "text": [
      "Fitting 3 folds for each of 7 candidates, totalling 21 fits\n"
     ]
    },
    {
     "name": "stderr",
     "output_type": "stream",
     "text": [
      "[Parallel(n_jobs=-1)]: Using backend LokyBackend with 8 concurrent workers.\n",
      "[Parallel(n_jobs=-1)]: Done  17 out of  21 | elapsed: 63.7min remaining: 15.0min\n",
      "[Parallel(n_jobs=-1)]: Done  21 out of  21 | elapsed: 91.3min finished\n"
     ]
    },
    {
     "name": "stdout",
     "output_type": "stream",
     "text": [
      "Fitting 3 folds for each of 7 candidates, totalling 21 fits\n"
     ]
    },
    {
     "name": "stderr",
     "output_type": "stream",
     "text": [
      "[Parallel(n_jobs=-1)]: Using backend LokyBackend with 8 concurrent workers.\n",
      "[Parallel(n_jobs=-1)]: Done  17 out of  21 | elapsed:  6.4min remaining:  1.5min\n",
      "[Parallel(n_jobs=-1)]: Done  21 out of  21 | elapsed:  8.6min finished\n"
     ]
    },
    {
     "name": "stdout",
     "output_type": "stream",
     "text": [
      "Fitting 3 folds for each of 7 candidates, totalling 21 fits\n"
     ]
    },
    {
     "name": "stderr",
     "output_type": "stream",
     "text": [
      "[Parallel(n_jobs=-1)]: Using backend LokyBackend with 8 concurrent workers.\n",
      "[Parallel(n_jobs=-1)]: Done  17 out of  21 | elapsed:  3.7min remaining:   52.8s\n",
      "[Parallel(n_jobs=-1)]: Done  21 out of  21 | elapsed:  5.1min finished\n"
     ]
    }
   ],
   "source": [
    "#%% RANDOM FOREST LOOP FOR ALL VARIABLES\n",
    "\n",
    "#Be carefull with these functions, they work with df and no with arrays\n",
    "# Create function that selects output variables\n",
    "def get_y_var(df, y_list):\n",
    "    return df[y_list]\n",
    "\n",
    "# Create function that selects input variables\n",
    "def get_x_var(df, x_list):\n",
    "    return df[x_list]\n",
    "\n",
    "# Initialize data frame and library that will be used \n",
    "accuracy = {}\n",
    "kappa = {}\n",
    "conf_matrix_RF = {}\n",
    "class_report_RF = {}\n",
    "metrics_classification_RF = [accuracy, kappa]\n",
    "mse = {}\n",
    "mae = {}\n",
    "r2 = {}\n",
    "rmse ={}\n",
    "metrics_regression_RF = [mse, mae, r2, rmse]\n",
    "best_parameters_RF = {}\n",
    "\n",
    "# Prediction log\n",
    "predictions_RF = pd.DataFrame()\n",
    "\n",
    "# Select all variables that need prediction\n",
    "pred_var = [\"LONGITUDE\", \n",
    "            \"LATITUDE\", \n",
    "            \"FLOOR\", \n",
    "            \"BUILDINGID\"]\n",
    "\n",
    "# Select all variables that need regression\n",
    "reg_labels = [\"LONGITUDE\", \n",
    "              \"LATITUDE\"]\n",
    "\n",
    "# Loop over the predictor variables\n",
    "for i in pred_var:\n",
    "    # If i is label that requires regression, run regression else classification\n",
    "    if i in reg_labels:\n",
    "        # Select label you want to predict from train\n",
    "        training_y_reg = get_y_var(y_training, i)\n",
    "        # Select label you want to predict from validation\n",
    "        validation_y_reg = get_y_var(y_validation, i)        \n",
    "        # Initiate regressor\n",
    "        rf = RandomForestRegressor()\n",
    "        #Grid Search CV\n",
    "        rf_random = RandomizedSearchCV(estimator = rf, param_distributions = random_grid, n_iter = 7, cv = 3, verbose=2, random_state=42, n_jobs = -1)\n",
    "            #The most important arguments in RandomizedSearchCV are n_iter, which controls the number of different combinations to try, and cv which is the number of folds to use for cross validation (we use 100 and 3 respectively).\n",
    "        # Fit model with the best RF found\n",
    "        rf_random.fit(X_training, training_y_reg)\n",
    "        # Predict values for validation data\n",
    "        pred = rf_random.predict(X_validation) \n",
    "        # Write prediction to pred_\n",
    "        predictions_RF[i] = pred        \n",
    "        # Estimate mse, mea, r^2 and write to library for relevant i\n",
    "        mse[i] = mean_squared_error(validation_y_reg, pred)\n",
    "        mae[i] = mean_absolute_error(validation_y_reg, pred)\n",
    "        r2[i] = r2_score(validation_y_reg, pred)\n",
    "        rmse[i] = sqrt(mean_squared_error(validation_y_reg, pred))\n",
    "        #Store the best parameters\n",
    "        best_parameters_RF[i]=rf_random.best_params_\n",
    "        \n",
    "    else:\n",
    "        # Select label you want to predict from train\n",
    "        training_y_clf = get_y_var(y_training, i)\n",
    "        # Select label you want to predict from validation\n",
    "        validation_y_clf = get_y_var(y_validation, i)        \n",
    "        # Initiate classifier\n",
    "        rf = RandomForestClassifier()\n",
    "        #Grid Search CV\n",
    "        rf_random = RandomizedSearchCV(estimator = rf, param_distributions = random_grid, n_iter = 7, cv = 3, verbose=2, random_state=42, n_jobs = -1)\n",
    "            #The most important arguments in RandomizedSearchCV are n_iter, which controls the number of different combinations to try, and cv which is the number of folds to use for cross validation (we use 100 and 3 respectively).\n",
    "        # Fit model with the best RF found\n",
    "        rf_random.fit(X_training, training_y_clf)\n",
    "        # Predict values for validation data\n",
    "        pred = rf_random.predict(X_validation) \n",
    "        # Write prediction to pred_log\n",
    "        predictions_RF[i] = pred        \n",
    "        # Estimate accuracy,kappa and confussion matrix and write to library for relevant i\n",
    "        accuracy[i] = accuracy_score(validation_y_clf, pred)\n",
    "        kappa[i] = cohen_kappa_score(validation_y_clf, pred)\n",
    "        conf_matrix_RF[i] = confusion_matrix(validation_y_clf, pred)\n",
    "        class_report_RF[i]=classification_report(validation_y_clf, pred)\n",
    "        #Store the best parameters\n",
    "        best_parameters_RF[i]=rf_random.best_params_\n",
    "    \n",
    "\n",
    "metrics_regression_RF = pd.DataFrame(metrics_regression_RF, index=[\"mse\", \"mae\", \"r2\", \"rmse\"])\n",
    "metrics_classification_RF = pd.DataFrame(metrics_classification_RF, index=[\"accuracy\", \"kappa\"])\n"
   ]
  },
  {
   "cell_type": "markdown",
   "metadata": {
    "ExecuteTime": {
     "end_time": "2020-02-15T15:47:54.550261Z",
     "start_time": "2020-02-15T15:47:54.519224Z"
    }
   },
   "source": [
    "### RF Results"
   ]
  },
  {
   "cell_type": "code",
   "execution_count": 30,
   "metadata": {
    "ExecuteTime": {
     "end_time": "2020-02-15T15:48:06.143167Z",
     "start_time": "2020-02-15T15:48:06.124085Z"
    },
    "cell_style": "split"
   },
   "outputs": [
    {
     "data": {
      "text/html": [
       "<div>\n",
       "<style scoped>\n",
       "    .dataframe tbody tr th:only-of-type {\n",
       "        vertical-align: middle;\n",
       "    }\n",
       "\n",
       "    .dataframe tbody tr th {\n",
       "        vertical-align: top;\n",
       "    }\n",
       "\n",
       "    .dataframe thead th {\n",
       "        text-align: right;\n",
       "    }\n",
       "</style>\n",
       "<table border=\"1\" class=\"dataframe\">\n",
       "  <thead>\n",
       "    <tr style=\"text-align: right;\">\n",
       "      <th></th>\n",
       "      <th>FLOOR</th>\n",
       "      <th>BUILDINGID</th>\n",
       "    </tr>\n",
       "  </thead>\n",
       "  <tbody>\n",
       "    <tr>\n",
       "      <th>accuracy</th>\n",
       "      <td>0.927093</td>\n",
       "      <td>1.0</td>\n",
       "    </tr>\n",
       "    <tr>\n",
       "      <th>kappa</th>\n",
       "      <td>0.897551</td>\n",
       "      <td>1.0</td>\n",
       "    </tr>\n",
       "  </tbody>\n",
       "</table>\n",
       "</div>"
      ],
      "text/plain": [
       "             FLOOR  BUILDINGID\n",
       "accuracy  0.927093         1.0\n",
       "kappa     0.897551         1.0"
      ]
     },
     "execution_count": 30,
     "metadata": {},
     "output_type": "execute_result"
    }
   ],
   "source": [
    "metrics_classification_RF"
   ]
  },
  {
   "cell_type": "code",
   "execution_count": 31,
   "metadata": {
    "ExecuteTime": {
     "end_time": "2020-02-15T15:57:52.729446Z",
     "start_time": "2020-02-15T15:57:52.718421Z"
    },
    "cell_style": "split"
   },
   "outputs": [
    {
     "data": {
      "text/html": [
       "<div>\n",
       "<style scoped>\n",
       "    .dataframe tbody tr th:only-of-type {\n",
       "        vertical-align: middle;\n",
       "    }\n",
       "\n",
       "    .dataframe tbody tr th {\n",
       "        vertical-align: top;\n",
       "    }\n",
       "\n",
       "    .dataframe thead th {\n",
       "        text-align: right;\n",
       "    }\n",
       "</style>\n",
       "<table border=\"1\" class=\"dataframe\">\n",
       "  <thead>\n",
       "    <tr style=\"text-align: right;\">\n",
       "      <th></th>\n",
       "      <th>LONGITUDE</th>\n",
       "      <th>LATITUDE</th>\n",
       "    </tr>\n",
       "  </thead>\n",
       "  <tbody>\n",
       "    <tr>\n",
       "      <th>mse</th>\n",
       "      <td>65.661674</td>\n",
       "      <td>68.141890</td>\n",
       "    </tr>\n",
       "    <tr>\n",
       "      <th>mae</th>\n",
       "      <td>5.442472</td>\n",
       "      <td>5.330030</td>\n",
       "    </tr>\n",
       "    <tr>\n",
       "      <th>r2</th>\n",
       "      <td>0.995452</td>\n",
       "      <td>0.986189</td>\n",
       "    </tr>\n",
       "    <tr>\n",
       "      <th>rmse</th>\n",
       "      <td>8.103189</td>\n",
       "      <td>8.254810</td>\n",
       "    </tr>\n",
       "  </tbody>\n",
       "</table>\n",
       "</div>"
      ],
      "text/plain": [
       "      LONGITUDE   LATITUDE\n",
       "mse   65.661674  68.141890\n",
       "mae    5.442472   5.330030\n",
       "r2     0.995452   0.986189\n",
       "rmse   8.103189   8.254810"
      ]
     },
     "execution_count": 31,
     "metadata": {},
     "output_type": "execute_result"
    }
   ],
   "source": [
    "metrics_regression_RF"
   ]
  },
  {
   "cell_type": "code",
   "execution_count": 32,
   "metadata": {
    "ExecuteTime": {
     "end_time": "2020-02-15T15:58:06.979157Z",
     "start_time": "2020-02-15T15:58:06.963626Z"
    }
   },
   "outputs": [
    {
     "data": {
      "text/plain": [
       "{'LONGITUDE': {'n_estimators': 800},\n",
       " 'LATITUDE': {'n_estimators': 1000},\n",
       " 'FLOOR': {'n_estimators': 300},\n",
       " 'BUILDINGID': {'n_estimators': 300}}"
      ]
     },
     "execution_count": 32,
     "metadata": {},
     "output_type": "execute_result"
    }
   ],
   "source": [
    "best_parameters_RF"
   ]
  },
  {
   "cell_type": "markdown",
   "metadata": {},
   "source": [
    "## XGBoost"
   ]
  },
  {
   "cell_type": "code",
   "execution_count": 28,
   "metadata": {
    "ExecuteTime": {
     "end_time": "2020-02-16T12:54:13.284319Z",
     "start_time": "2020-02-16T12:54:13.276355Z"
    }
   },
   "outputs": [
    {
     "name": "stdout",
     "output_type": "stream",
     "text": [
      "{'n_estimators': [100, 200, 300, 400, 500, 600, 700, 800, 900, 1000, 1100, 1200, 1300, 1400, 1500], 'learning_rate': [0.1, 0.2, 0.3, 0.4, 0.5, 0.6]}\n"
     ]
    }
   ],
   "source": [
    "# Parameters tuning\n",
    "n_estimators = [int(x) for x in np.linspace(start = 100, stop = 1500, num = 15)]\n",
    "# Number of features to consider at every split\n",
    "learning = [0.1,0.2,0.3,0.4,0.5,0.6]\n",
    "\n",
    "# Create the random grid\n",
    "random_grid = {'n_estimators': n_estimators,\n",
    "               'learning_rate': learning}\n",
    "print(random_grid)"
   ]
  },
  {
   "cell_type": "code",
   "execution_count": 31,
   "metadata": {
    "ExecuteTime": {
     "end_time": "2020-02-16T13:12:49.577719Z",
     "start_time": "2020-02-16T13:04:11.835768Z"
    }
   },
   "outputs": [
    {
     "name": "stdout",
     "output_type": "stream",
     "text": [
      "Fitting 3 folds for each of 10 candidates, totalling 30 fits\n"
     ]
    },
    {
     "name": "stderr",
     "output_type": "stream",
     "text": [
      "[Parallel(n_jobs=-1)]: Using backend LokyBackend with 8 concurrent workers.\n",
      "[Parallel(n_jobs=-1)]: Done  30 out of  30 | elapsed:  1.5min finished\n"
     ]
    },
    {
     "name": "stdout",
     "output_type": "stream",
     "text": [
      "[14:05:39] WARNING: src/objective/regression_obj.cu:152: reg:linear is now deprecated in favor of reg:squarederror.\n",
      "[0]\tvalidation_0-rmse:4519.12\n",
      "Will train until validation_0-rmse hasn't improved in 5 rounds.\n",
      "[1]\tvalidation_0-rmse:2711.17\n",
      "[2]\tvalidation_0-rmse:1627.38\n",
      "[3]\tvalidation_0-rmse:977.31\n",
      "[4]\tvalidation_0-rmse:586.427\n",
      "[5]\tvalidation_0-rmse:352.073\n",
      "[6]\tvalidation_0-rmse:211.689\n",
      "[7]\tvalidation_0-rmse:128.084\n",
      "[8]\tvalidation_0-rmse:78.2394\n",
      "[9]\tvalidation_0-rmse:49.3193\n",
      "[10]\tvalidation_0-rmse:32.2097\n",
      "[11]\tvalidation_0-rmse:23.4698\n",
      "[12]\tvalidation_0-rmse:19.0897\n",
      "[13]\tvalidation_0-rmse:17.2618\n",
      "[14]\tvalidation_0-rmse:16.3999\n",
      "[15]\tvalidation_0-rmse:15.8195\n",
      "[16]\tvalidation_0-rmse:15.503\n",
      "[17]\tvalidation_0-rmse:15.1936\n",
      "[18]\tvalidation_0-rmse:15.0239\n",
      "[19]\tvalidation_0-rmse:14.743\n",
      "[20]\tvalidation_0-rmse:14.3859\n",
      "[21]\tvalidation_0-rmse:14.3659\n",
      "[22]\tvalidation_0-rmse:14.33\n",
      "[23]\tvalidation_0-rmse:14.323\n",
      "[24]\tvalidation_0-rmse:14.2878\n",
      "[25]\tvalidation_0-rmse:14.197\n",
      "[26]\tvalidation_0-rmse:14.1564\n",
      "[27]\tvalidation_0-rmse:14.0124\n",
      "[28]\tvalidation_0-rmse:13.9424\n",
      "[29]\tvalidation_0-rmse:14.1888\n",
      "[30]\tvalidation_0-rmse:14.1012\n",
      "[31]\tvalidation_0-rmse:14.0697\n",
      "[32]\tvalidation_0-rmse:14.0384\n",
      "[33]\tvalidation_0-rmse:13.6917\n",
      "[34]\tvalidation_0-rmse:13.6604\n",
      "[35]\tvalidation_0-rmse:13.5598\n",
      "[36]\tvalidation_0-rmse:13.5453\n",
      "[37]\tvalidation_0-rmse:13.5225\n",
      "[38]\tvalidation_0-rmse:13.5398\n",
      "[39]\tvalidation_0-rmse:13.556\n",
      "[40]\tvalidation_0-rmse:13.5324\n",
      "[41]\tvalidation_0-rmse:13.5109\n",
      "[42]\tvalidation_0-rmse:13.4988\n",
      "[43]\tvalidation_0-rmse:13.4502\n",
      "[44]\tvalidation_0-rmse:13.2977\n",
      "[45]\tvalidation_0-rmse:13.274\n",
      "[46]\tvalidation_0-rmse:13.2395\n",
      "[47]\tvalidation_0-rmse:13.1133\n",
      "[48]\tvalidation_0-rmse:12.9203\n",
      "[49]\tvalidation_0-rmse:12.9081\n",
      "[50]\tvalidation_0-rmse:12.9176\n",
      "[51]\tvalidation_0-rmse:12.9429\n",
      "[52]\tvalidation_0-rmse:12.8928\n",
      "[53]\tvalidation_0-rmse:12.8925\n",
      "[54]\tvalidation_0-rmse:12.9016\n",
      "[55]\tvalidation_0-rmse:12.8633\n",
      "[56]\tvalidation_0-rmse:12.8565\n",
      "[57]\tvalidation_0-rmse:12.7893\n",
      "[58]\tvalidation_0-rmse:12.7894\n",
      "[59]\tvalidation_0-rmse:12.8057\n",
      "[60]\tvalidation_0-rmse:12.7823\n",
      "[61]\tvalidation_0-rmse:12.8074\n",
      "[62]\tvalidation_0-rmse:12.7787\n",
      "[63]\tvalidation_0-rmse:12.7207\n",
      "[64]\tvalidation_0-rmse:12.7007\n",
      "[65]\tvalidation_0-rmse:12.7177\n",
      "[66]\tvalidation_0-rmse:12.7217\n",
      "[67]\tvalidation_0-rmse:12.8097\n",
      "[68]\tvalidation_0-rmse:12.8021\n",
      "[69]\tvalidation_0-rmse:12.789\n",
      "Stopping. Best iteration:\n",
      "[64]\tvalidation_0-rmse:12.7007\n",
      "\n",
      "Fitting 3 folds for each of 10 candidates, totalling 30 fits\n"
     ]
    },
    {
     "name": "stderr",
     "output_type": "stream",
     "text": [
      "[Parallel(n_jobs=-1)]: Using backend LokyBackend with 8 concurrent workers.\n",
      "[Parallel(n_jobs=-1)]: Done  30 out of  30 | elapsed:  1.4min finished\n"
     ]
    },
    {
     "name": "stdout",
     "output_type": "stream",
     "text": [
      "[14:07:18] WARNING: src/objective/regression_obj.cu:152: reg:linear is now deprecated in favor of reg:squarederror.\n",
      "[0]\tvalidation_0-rmse:2.43262e+06\n",
      "Will train until validation_0-rmse hasn't improved in 5 rounds.\n",
      "[1]\tvalidation_0-rmse:1.2164e+06\n",
      "[2]\tvalidation_0-rmse:608248\n",
      "[3]\tvalidation_0-rmse:304151\n",
      "[4]\tvalidation_0-rmse:152093\n",
      "[5]\tvalidation_0-rmse:76058.5\n",
      "[6]\tvalidation_0-rmse:38038.5\n",
      "[7]\tvalidation_0-rmse:19027.6\n",
      "[8]\tvalidation_0-rmse:9521.69\n",
      "[9]\tvalidation_0-rmse:4768.44\n",
      "[10]\tvalidation_0-rmse:2386.36\n",
      "[11]\tvalidation_0-rmse:1194.96\n",
      "[12]\tvalidation_0-rmse:598.721\n",
      "[13]\tvalidation_0-rmse:299.412\n",
      "[14]\tvalidation_0-rmse:150.551\n",
      "[15]\tvalidation_0-rmse:77.3346\n",
      "[16]\tvalidation_0-rmse:41.1007\n",
      "[17]\tvalidation_0-rmse:24.7563\n",
      "[18]\tvalidation_0-rmse:17.8345\n",
      "[19]\tvalidation_0-rmse:15.5646\n",
      "[20]\tvalidation_0-rmse:14.7588\n",
      "[21]\tvalidation_0-rmse:14.4479\n",
      "[22]\tvalidation_0-rmse:14.2904\n",
      "[23]\tvalidation_0-rmse:14.18\n",
      "[24]\tvalidation_0-rmse:14.1897\n",
      "[25]\tvalidation_0-rmse:13.8994\n",
      "[26]\tvalidation_0-rmse:13.7858\n",
      "[27]\tvalidation_0-rmse:13.6741\n",
      "[28]\tvalidation_0-rmse:13.6013\n",
      "[29]\tvalidation_0-rmse:13.3724\n",
      "[30]\tvalidation_0-rmse:13.2835\n",
      "[31]\tvalidation_0-rmse:13.2921\n",
      "[32]\tvalidation_0-rmse:12.9662\n",
      "[33]\tvalidation_0-rmse:12.7254\n",
      "[34]\tvalidation_0-rmse:12.6093\n",
      "[35]\tvalidation_0-rmse:12.5329\n",
      "[36]\tvalidation_0-rmse:12.39\n",
      "[37]\tvalidation_0-rmse:12.404\n",
      "[38]\tvalidation_0-rmse:12.3342\n",
      "[39]\tvalidation_0-rmse:12.3288\n",
      "[40]\tvalidation_0-rmse:12.338\n",
      "[41]\tvalidation_0-rmse:12.2893\n",
      "[42]\tvalidation_0-rmse:12.2969\n",
      "[43]\tvalidation_0-rmse:12.2143\n",
      "[44]\tvalidation_0-rmse:12.1182\n",
      "[45]\tvalidation_0-rmse:12.1651\n",
      "[46]\tvalidation_0-rmse:12.1546\n",
      "[47]\tvalidation_0-rmse:12.0771\n",
      "[48]\tvalidation_0-rmse:12.0119\n",
      "[49]\tvalidation_0-rmse:11.9781\n",
      "[50]\tvalidation_0-rmse:11.9177\n",
      "[51]\tvalidation_0-rmse:11.8361\n",
      "[52]\tvalidation_0-rmse:11.8094\n",
      "[53]\tvalidation_0-rmse:11.801\n",
      "[54]\tvalidation_0-rmse:11.7453\n",
      "[55]\tvalidation_0-rmse:11.7218\n",
      "[56]\tvalidation_0-rmse:11.6572\n",
      "[57]\tvalidation_0-rmse:11.6829\n",
      "[58]\tvalidation_0-rmse:11.6654\n",
      "[59]\tvalidation_0-rmse:11.5659\n",
      "[60]\tvalidation_0-rmse:11.566\n",
      "[61]\tvalidation_0-rmse:11.5418\n",
      "[62]\tvalidation_0-rmse:11.4861\n",
      "[63]\tvalidation_0-rmse:11.3158\n",
      "[64]\tvalidation_0-rmse:11.3097\n",
      "[65]\tvalidation_0-rmse:11.3109\n",
      "[66]\tvalidation_0-rmse:11.2722\n",
      "[67]\tvalidation_0-rmse:11.2806\n",
      "[68]\tvalidation_0-rmse:11.2904\n",
      "[69]\tvalidation_0-rmse:11.2875\n",
      "[70]\tvalidation_0-rmse:11.2792\n",
      "[71]\tvalidation_0-rmse:11.2793\n",
      "Stopping. Best iteration:\n",
      "[66]\tvalidation_0-rmse:11.2722\n",
      "\n",
      "Fitting 3 folds for each of 10 candidates, totalling 30 fits\n"
     ]
    },
    {
     "name": "stderr",
     "output_type": "stream",
     "text": [
      "[Parallel(n_jobs=-1)]: Using backend LokyBackend with 8 concurrent workers.\n",
      "[Parallel(n_jobs=-1)]: Done  30 out of  30 | elapsed:  4.4min finished\n"
     ]
    },
    {
     "name": "stdout",
     "output_type": "stream",
     "text": [
      "[0]\tvalidation_0-merror:0.288929\n",
      "Will train until validation_0-merror hasn't improved in 5 rounds.\n",
      "[1]\tvalidation_0-merror:0.217822\n",
      "[2]\tvalidation_0-merror:0.20432\n",
      "[3]\tvalidation_0-merror:0.19892\n",
      "[4]\tvalidation_0-merror:0.178218\n",
      "[5]\tvalidation_0-merror:0.172817\n",
      "[6]\tvalidation_0-merror:0.168317\n",
      "[7]\tvalidation_0-merror:0.158416\n",
      "[8]\tvalidation_0-merror:0.149415\n",
      "[9]\tvalidation_0-merror:0.141314\n",
      "[10]\tvalidation_0-merror:0.134113\n",
      "[11]\tvalidation_0-merror:0.125113\n",
      "[12]\tvalidation_0-merror:0.125113\n",
      "[13]\tvalidation_0-merror:0.124212\n",
      "[14]\tvalidation_0-merror:0.119712\n",
      "[15]\tvalidation_0-merror:0.118812\n",
      "[16]\tvalidation_0-merror:0.117012\n",
      "[17]\tvalidation_0-merror:0.115212\n",
      "[18]\tvalidation_0-merror:0.107111\n",
      "[19]\tvalidation_0-merror:0.108911\n",
      "[20]\tvalidation_0-merror:0.10261\n",
      "[21]\tvalidation_0-merror:0.10351\n",
      "[22]\tvalidation_0-merror:0.10081\n",
      "[23]\tvalidation_0-merror:0.09721\n",
      "[24]\tvalidation_0-merror:0.09721\n",
      "[25]\tvalidation_0-merror:0.09901\n",
      "[26]\tvalidation_0-merror:0.09721\n",
      "[27]\tvalidation_0-merror:0.09811\n",
      "[28]\tvalidation_0-merror:0.09811\n",
      "Stopping. Best iteration:\n",
      "[23]\tvalidation_0-merror:0.09721\n",
      "\n",
      "Fitting 3 folds for each of 10 candidates, totalling 30 fits\n"
     ]
    },
    {
     "name": "stderr",
     "output_type": "stream",
     "text": [
      "[Parallel(n_jobs=-1)]: Using backend LokyBackend with 8 concurrent workers.\n",
      "[Parallel(n_jobs=-1)]: Done  30 out of  30 | elapsed:   32.8s finished\n"
     ]
    },
    {
     "name": "stdout",
     "output_type": "stream",
     "text": [
      "[0]\tvalidation_0-merror:0.0027\n",
      "Will train until validation_0-merror hasn't improved in 5 rounds.\n",
      "[1]\tvalidation_0-merror:0.0027\n",
      "[2]\tvalidation_0-merror:0.0027\n",
      "[3]\tvalidation_0-merror:0.0027\n",
      "[4]\tvalidation_0-merror:0.0027\n",
      "[5]\tvalidation_0-merror:0.0027\n",
      "Stopping. Best iteration:\n",
      "[0]\tvalidation_0-merror:0.0027\n",
      "\n"
     ]
    }
   ],
   "source": [
    "#%% XGBoost LOOP FOR ALL VARIABLES\n",
    "\n",
    "#Be carefull with these functions, they work with df and no with arrays\n",
    "# Create function that selects output variables\n",
    "def get_y_var(df, y_list):\n",
    "    return df[y_list]\n",
    "\n",
    "# Create function that selects input variables\n",
    "def get_x_var(df, x_list):\n",
    "    return df[x_list]\n",
    "\n",
    "# Initialize data frame and library that will be used \n",
    "accuracy = {}\n",
    "kappa = {}\n",
    "conf_matrix_XGB = {}\n",
    "class_report_XGB = {}\n",
    "metrics_classification_XGB = [accuracy, kappa]\n",
    "mse = {}\n",
    "mae = {}\n",
    "r2 = {}\n",
    "rmse ={}\n",
    "metrics_regression_XGB = [mse, mae, r2, rmse]\n",
    "best_parameters_XGB = {}\n",
    "\n",
    "# Prediction log\n",
    "predictions_XGB = pd.DataFrame()\n",
    "\n",
    "# Select all variables that need prediction\n",
    "pred_var = [\"LONGITUDE\", \n",
    "            \"LATITUDE\", \n",
    "            \"FLOOR\", \n",
    "            \"BUILDINGID\"]\n",
    "\n",
    "# Select all variables that need regression\n",
    "reg_labels = [\"LONGITUDE\", \n",
    "              \"LATITUDE\"]\n",
    "\n",
    "# Loop over the predictor variables\n",
    "for i in pred_var:\n",
    "    # If i is label that requires regression, run regression else classification\n",
    "    if i in reg_labels:\n",
    "        # Select label you want to predict from train\n",
    "        training_y_reg = get_y_var(y_training, i)\n",
    "        # Select label you want to predict from validation\n",
    "        validation_y_reg = get_y_var(y_validation, i)        \n",
    "        # Initiate regressor\n",
    "        xgb = XGBRegressor()\n",
    "        #Grid Search CV\n",
    "        xgb_random = RandomizedSearchCV(estimator = xgb, param_distributions = random_grid, n_iter = 10, cv = 3, verbose=2, random_state=42, n_jobs = -1)\n",
    "        # Fit model with the best XGB found\n",
    "        xgb_random.fit(X_training, training_y_reg, \n",
    "              early_stopping_rounds=5, #overfitting prevention, stop early if no improvement in learning\n",
    "              eval_set=[(X_validation, validation_y_reg)])\n",
    "        # Predict values for validation data\n",
    "        pred = xgb_random.predict(X_validation) \n",
    "        # Write prediction to pred_\n",
    "        predictions_XGB[i] = pred        \n",
    "        # Estimate mse, mea, r^2 and write to library for relevant i\n",
    "        mse[i] = mean_squared_error(validation_y_reg, pred)\n",
    "        mae[i] = mean_absolute_error(validation_y_reg, pred)\n",
    "        r2[i] = r2_score(validation_y_reg, pred)\n",
    "        rmse[i] = sqrt(mean_squared_error(validation_y_reg, pred))\n",
    "        #Store the best parameters\n",
    "        best_parameters_XGB[i]=xgb_random.best_params_\n",
    "        \n",
    "    else:\n",
    "        # Select label you want to predict from train\n",
    "        training_y_clf = get_y_var(y_training, i)\n",
    "        # Select label you want to predict from validation\n",
    "        validation_y_clf = get_y_var(y_validation, i)        \n",
    "        # Initiate classifier\n",
    "        xgb = XGBClassifier()\n",
    "        #Grid Search CV\n",
    "        xgb_random = RandomizedSearchCV(estimator = xgb, param_distributions = random_grid, n_iter = 10, cv = 3, verbose=2, random_state=42, n_jobs = -1)\n",
    "        # Fit model with the best XGB found\n",
    "        xgb_random.fit(X_training, training_y_clf, \n",
    "              early_stopping_rounds=5, #overfitting prevention, stop early if no improvement in learning\n",
    "              eval_set=[(X_validation, validation_y_clf)])\n",
    "        pred = xgb_random.predict(X_validation) \n",
    "        # Write prediction to pred_log\n",
    "        predictions_XGB[i] = pred        \n",
    "        # Estimate accuracy,kappa and confussion matrix and write to library for relevant i\n",
    "        accuracy[i] = accuracy_score(validation_y_clf, pred)\n",
    "        kappa[i] = cohen_kappa_score(validation_y_clf, pred)\n",
    "        conf_matrix_XGB[i] = confusion_matrix(validation_y_clf, pred)\n",
    "        class_report_XGB[i]=classification_report(validation_y_clf, pred)\n",
    "        #Store the best parameters\n",
    "        best_parameters_XGB[i]=xgb_random.best_params_\n",
    "    \n",
    "\n",
    "metrics_regression_XGB = pd.DataFrame(metrics_regression_XGB, index=[\"mse\", \"mae\", \"r2\", \"rmse\"])\n",
    "metrics_classification_XGB = pd.DataFrame(metrics_classification_XGB, index=[\"accuracy\", \"kappa\"])\n"
   ]
  },
  {
   "cell_type": "markdown",
   "metadata": {},
   "source": [
    "### XGBoost Results"
   ]
  },
  {
   "cell_type": "code",
   "execution_count": 34,
   "metadata": {
    "ExecuteTime": {
     "end_time": "2020-02-16T13:14:36.784170Z",
     "start_time": "2020-02-16T13:14:36.774915Z"
    },
    "cell_style": "split"
   },
   "outputs": [
    {
     "data": {
      "text/html": [
       "<div>\n",
       "<style scoped>\n",
       "    .dataframe tbody tr th:only-of-type {\n",
       "        vertical-align: middle;\n",
       "    }\n",
       "\n",
       "    .dataframe tbody tr th {\n",
       "        vertical-align: top;\n",
       "    }\n",
       "\n",
       "    .dataframe thead th {\n",
       "        text-align: right;\n",
       "    }\n",
       "</style>\n",
       "<table border=\"1\" class=\"dataframe\">\n",
       "  <thead>\n",
       "    <tr style=\"text-align: right;\">\n",
       "      <th></th>\n",
       "      <th>LONGITUDE</th>\n",
       "      <th>LATITUDE</th>\n",
       "    </tr>\n",
       "  </thead>\n",
       "  <tbody>\n",
       "    <tr>\n",
       "      <th>mse</th>\n",
       "      <td>161.307949</td>\n",
       "      <td>127.100904</td>\n",
       "    </tr>\n",
       "    <tr>\n",
       "      <th>mae</th>\n",
       "      <td>8.553476</td>\n",
       "      <td>7.992346</td>\n",
       "    </tr>\n",
       "    <tr>\n",
       "      <th>r2</th>\n",
       "      <td>0.988827</td>\n",
       "      <td>0.974239</td>\n",
       "    </tr>\n",
       "    <tr>\n",
       "      <th>rmse</th>\n",
       "      <td>12.700707</td>\n",
       "      <td>11.273904</td>\n",
       "    </tr>\n",
       "  </tbody>\n",
       "</table>\n",
       "</div>"
      ],
      "text/plain": [
       "       LONGITUDE    LATITUDE\n",
       "mse   161.307949  127.100904\n",
       "mae     8.553476    7.992346\n",
       "r2      0.988827    0.974239\n",
       "rmse   12.700707   11.273904"
      ]
     },
     "execution_count": 34,
     "metadata": {},
     "output_type": "execute_result"
    }
   ],
   "source": [
    "metrics_regression_XGB"
   ]
  },
  {
   "cell_type": "code",
   "execution_count": 32,
   "metadata": {
    "ExecuteTime": {
     "end_time": "2020-02-16T13:14:23.564088Z",
     "start_time": "2020-02-16T13:14:23.555111Z"
    },
    "cell_style": "split"
   },
   "outputs": [
    {
     "data": {
      "text/html": [
       "<div>\n",
       "<style scoped>\n",
       "    .dataframe tbody tr th:only-of-type {\n",
       "        vertical-align: middle;\n",
       "    }\n",
       "\n",
       "    .dataframe tbody tr th {\n",
       "        vertical-align: top;\n",
       "    }\n",
       "\n",
       "    .dataframe thead th {\n",
       "        text-align: right;\n",
       "    }\n",
       "</style>\n",
       "<table border=\"1\" class=\"dataframe\">\n",
       "  <thead>\n",
       "    <tr style=\"text-align: right;\">\n",
       "      <th></th>\n",
       "      <th>FLOOR</th>\n",
       "      <th>BUILDINGID</th>\n",
       "    </tr>\n",
       "  </thead>\n",
       "  <tbody>\n",
       "    <tr>\n",
       "      <th>accuracy</th>\n",
       "      <td>0.90279</td>\n",
       "      <td>0.997300</td>\n",
       "    </tr>\n",
       "    <tr>\n",
       "      <th>kappa</th>\n",
       "      <td>0.86387</td>\n",
       "      <td>0.995737</td>\n",
       "    </tr>\n",
       "  </tbody>\n",
       "</table>\n",
       "</div>"
      ],
      "text/plain": [
       "            FLOOR  BUILDINGID\n",
       "accuracy  0.90279    0.997300\n",
       "kappa     0.86387    0.995737"
      ]
     },
     "execution_count": 32,
     "metadata": {},
     "output_type": "execute_result"
    }
   ],
   "source": [
    "metrics_classification_XGB"
   ]
  },
  {
   "cell_type": "code",
   "execution_count": 33,
   "metadata": {
    "ExecuteTime": {
     "end_time": "2020-02-16T13:14:26.077194Z",
     "start_time": "2020-02-16T13:14:26.069216Z"
    }
   },
   "outputs": [
    {
     "data": {
      "text/plain": [
       "{'LONGITUDE': {'n_estimators': 1100, 'learning_rate': 0.4},\n",
       " 'LATITUDE': {'n_estimators': 1100, 'learning_rate': 0.5},\n",
       " 'FLOOR': {'n_estimators': 1100, 'learning_rate': 0.4},\n",
       " 'BUILDINGID': {'n_estimators': 800, 'learning_rate': 0.2}}"
      ]
     },
     "execution_count": 33,
     "metadata": {},
     "output_type": "execute_result"
    }
   ],
   "source": [
    "best_parameters_XGB"
   ]
  },
  {
   "cell_type": "markdown",
   "metadata": {},
   "source": [
    "## SVM"
   ]
  },
  {
   "cell_type": "code",
   "execution_count": 35,
   "metadata": {
    "ExecuteTime": {
     "end_time": "2020-02-16T13:14:40.528452Z",
     "start_time": "2020-02-16T13:14:40.515432Z"
    }
   },
   "outputs": [],
   "source": [
    "#%% DEFINE THE PARAMETER GRID FOR GRID SEARCH CV\n",
    "\n",
    "#For SVM the hyperparameters should be in exponential scale\n",
    "\n",
    "random_grid_SVR= {'C': [0.1, 1, 10, 100, 1000], \n",
    "              'kernel': ['rbf', 'linear', 'poly']}\n",
    "\n",
    "random_grid_SVC= {'C': [0.1, 1, 10, 100, 1000], \n",
    "              'kernel': ['rbf', 'linear', 'poly']}"
   ]
  },
  {
   "cell_type": "code",
   "execution_count": 36,
   "metadata": {
    "ExecuteTime": {
     "end_time": "2020-02-16T14:34:24.084992Z",
     "start_time": "2020-02-16T13:14:41.188249Z"
    }
   },
   "outputs": [
    {
     "name": "stdout",
     "output_type": "stream",
     "text": [
      "Fitting 3 folds for each of 8 candidates, totalling 24 fits\n",
      "[CV] kernel=rbf, C=100 ...............................................\n"
     ]
    },
    {
     "name": "stderr",
     "output_type": "stream",
     "text": [
      "[Parallel(n_jobs=1)]: Using backend SequentialBackend with 1 concurrent workers.\n"
     ]
    },
    {
     "name": "stdout",
     "output_type": "stream",
     "text": [
      "[CV] ................................ kernel=rbf, C=100, total= 1.1min\n",
      "[CV] kernel=rbf, C=100 ...............................................\n"
     ]
    },
    {
     "name": "stderr",
     "output_type": "stream",
     "text": [
      "[Parallel(n_jobs=1)]: Done   1 out of   1 | elapsed:  1.1min remaining:    0.0s\n"
     ]
    },
    {
     "name": "stdout",
     "output_type": "stream",
     "text": [
      "[CV] ................................ kernel=rbf, C=100, total= 1.3min\n",
      "[CV] kernel=rbf, C=100 ...............................................\n",
      "[CV] ................................ kernel=rbf, C=100, total=  58.3s\n",
      "[CV] kernel=poly, C=100 ..............................................\n",
      "[CV] ............................... kernel=poly, C=100, total= 1.2min\n",
      "[CV] kernel=poly, C=100 ..............................................\n",
      "[CV] ............................... kernel=poly, C=100, total= 1.1min\n",
      "[CV] kernel=poly, C=100 ..............................................\n",
      "[CV] ............................... kernel=poly, C=100, total= 1.0min\n",
      "[CV] kernel=rbf, C=0.1 ...............................................\n",
      "[CV] ................................ kernel=rbf, C=0.1, total=  41.2s\n",
      "[CV] kernel=rbf, C=0.1 ...............................................\n",
      "[CV] ................................ kernel=rbf, C=0.1, total=  40.8s\n",
      "[CV] kernel=rbf, C=0.1 ...............................................\n",
      "[CV] ................................ kernel=rbf, C=0.1, total=  41.3s\n",
      "[CV] kernel=linear, C=1000 ...........................................\n",
      "[CV] ............................ kernel=linear, C=1000, total= 1.2min\n",
      "[CV] kernel=linear, C=1000 ...........................................\n",
      "[CV] ............................ kernel=linear, C=1000, total= 1.1min\n",
      "[CV] kernel=linear, C=1000 ...........................................\n",
      "[CV] ............................ kernel=linear, C=1000, total= 1.2min\n",
      "[CV] kernel=poly, C=1 ................................................\n",
      "[CV] ................................. kernel=poly, C=1, total=  36.6s\n",
      "[CV] kernel=poly, C=1 ................................................\n",
      "[CV] ................................. kernel=poly, C=1, total=  37.2s\n",
      "[CV] kernel=poly, C=1 ................................................\n",
      "[CV] ................................. kernel=poly, C=1, total=  36.5s\n",
      "[CV] kernel=poly, C=10 ...............................................\n",
      "[CV] ................................ kernel=poly, C=10, total=  37.7s\n",
      "[CV] kernel=poly, C=10 ...............................................\n",
      "[CV] ................................ kernel=poly, C=10, total=  38.0s\n",
      "[CV] kernel=poly, C=10 ...............................................\n",
      "[CV] ................................ kernel=poly, C=10, total=  36.2s\n",
      "[CV] kernel=poly, C=0.1 ..............................................\n",
      "[CV] ............................... kernel=poly, C=0.1, total=  31.4s\n",
      "[CV] kernel=poly, C=0.1 ..............................................\n",
      "[CV] ............................... kernel=poly, C=0.1, total=  33.6s\n",
      "[CV] kernel=poly, C=0.1 ..............................................\n",
      "[CV] ............................... kernel=poly, C=0.1, total=  38.6s\n",
      "[CV] kernel=linear, C=0.1 ............................................\n",
      "[CV] ............................. kernel=linear, C=0.1, total=  37.0s\n",
      "[CV] kernel=linear, C=0.1 ............................................\n",
      "[CV] ............................. kernel=linear, C=0.1, total=  38.2s\n",
      "[CV] kernel=linear, C=0.1 ............................................\n",
      "[CV] ............................. kernel=linear, C=0.1, total=  32.5s\n"
     ]
    },
    {
     "name": "stderr",
     "output_type": "stream",
     "text": [
      "[Parallel(n_jobs=1)]: Done  24 out of  24 | elapsed: 19.4min finished\n"
     ]
    },
    {
     "name": "stdout",
     "output_type": "stream",
     "text": [
      "Fitting 3 folds for each of 8 candidates, totalling 24 fits\n",
      "[CV] kernel=rbf, C=100 ...............................................\n"
     ]
    },
    {
     "name": "stderr",
     "output_type": "stream",
     "text": [
      "[Parallel(n_jobs=1)]: Using backend SequentialBackend with 1 concurrent workers.\n"
     ]
    },
    {
     "name": "stdout",
     "output_type": "stream",
     "text": [
      "[CV] ................................ kernel=rbf, C=100, total= 1.1min\n",
      "[CV] kernel=rbf, C=100 ...............................................\n"
     ]
    },
    {
     "name": "stderr",
     "output_type": "stream",
     "text": [
      "[Parallel(n_jobs=1)]: Done   1 out of   1 | elapsed:  1.1min remaining:    0.0s\n"
     ]
    },
    {
     "name": "stdout",
     "output_type": "stream",
     "text": [
      "[CV] ................................ kernel=rbf, C=100, total= 1.2min\n",
      "[CV] kernel=rbf, C=100 ...............................................\n",
      "[CV] ................................ kernel=rbf, C=100, total= 1.0min\n",
      "[CV] kernel=poly, C=100 ..............................................\n",
      "[CV] ............................... kernel=poly, C=100, total= 1.4min\n",
      "[CV] kernel=poly, C=100 ..............................................\n",
      "[CV] ............................... kernel=poly, C=100, total= 2.4min\n",
      "[CV] kernel=poly, C=100 ..............................................\n",
      "[CV] ............................... kernel=poly, C=100, total= 1.2min\n",
      "[CV] kernel=rbf, C=0.1 ...............................................\n",
      "[CV] ................................ kernel=rbf, C=0.1, total= 1.1min\n",
      "[CV] kernel=rbf, C=0.1 ...............................................\n",
      "[CV] ................................ kernel=rbf, C=0.1, total=  46.8s\n",
      "[CV] kernel=rbf, C=0.1 ...............................................\n",
      "[CV] ................................ kernel=rbf, C=0.1, total=  51.8s\n",
      "[CV] kernel=linear, C=1000 ...........................................\n",
      "[CV] ............................ kernel=linear, C=1000, total= 1.5min\n",
      "[CV] kernel=linear, C=1000 ...........................................\n",
      "[CV] ............................ kernel=linear, C=1000, total= 1.2min\n",
      "[CV] kernel=linear, C=1000 ...........................................\n",
      "[CV] ............................ kernel=linear, C=1000, total= 1.3min\n",
      "[CV] kernel=poly, C=1 ................................................\n",
      "[CV] ................................. kernel=poly, C=1, total=  43.2s\n",
      "[CV] kernel=poly, C=1 ................................................\n",
      "[CV] ................................. kernel=poly, C=1, total=  48.5s\n",
      "[CV] kernel=poly, C=1 ................................................\n",
      "[CV] ................................. kernel=poly, C=1, total=  39.7s\n",
      "[CV] kernel=poly, C=10 ...............................................\n",
      "[CV] ................................ kernel=poly, C=10, total=  38.8s\n",
      "[CV] kernel=poly, C=10 ...............................................\n",
      "[CV] ................................ kernel=poly, C=10, total=  42.7s\n",
      "[CV] kernel=poly, C=10 ...............................................\n",
      "[CV] ................................ kernel=poly, C=10, total=  36.7s\n",
      "[CV] kernel=poly, C=0.1 ..............................................\n",
      "[CV] ............................... kernel=poly, C=0.1, total=  37.1s\n",
      "[CV] kernel=poly, C=0.1 ..............................................\n",
      "[CV] ............................... kernel=poly, C=0.1, total=  40.3s\n",
      "[CV] kernel=poly, C=0.1 ..............................................\n",
      "[CV] ............................... kernel=poly, C=0.1, total=  32.0s\n",
      "[CV] kernel=linear, C=0.1 ............................................\n",
      "[CV] ............................. kernel=linear, C=0.1, total=  33.3s\n",
      "[CV] kernel=linear, C=0.1 ............................................\n",
      "[CV] ............................. kernel=linear, C=0.1, total=  36.7s\n",
      "[CV] kernel=linear, C=0.1 ............................................\n",
      "[CV] ............................. kernel=linear, C=0.1, total=  36.9s\n"
     ]
    },
    {
     "name": "stderr",
     "output_type": "stream",
     "text": [
      "[Parallel(n_jobs=1)]: Done  24 out of  24 | elapsed: 22.8min finished\n"
     ]
    },
    {
     "name": "stdout",
     "output_type": "stream",
     "text": [
      "Fitting 3 folds for each of 8 candidates, totalling 24 fits\n",
      "[CV] kernel=rbf, C=100 ...............................................\n"
     ]
    },
    {
     "name": "stderr",
     "output_type": "stream",
     "text": [
      "[Parallel(n_jobs=1)]: Using backend SequentialBackend with 1 concurrent workers.\n"
     ]
    },
    {
     "name": "stdout",
     "output_type": "stream",
     "text": [
      "[CV] ................................ kernel=rbf, C=100, total=   7.3s\n",
      "[CV] kernel=rbf, C=100 ...............................................\n"
     ]
    },
    {
     "name": "stderr",
     "output_type": "stream",
     "text": [
      "[Parallel(n_jobs=1)]: Done   1 out of   1 | elapsed:    7.2s remaining:    0.0s\n"
     ]
    },
    {
     "name": "stdout",
     "output_type": "stream",
     "text": [
      "[CV] ................................ kernel=rbf, C=100, total=   7.5s\n",
      "[CV] kernel=rbf, C=100 ...............................................\n",
      "[CV] ................................ kernel=rbf, C=100, total=   6.7s\n",
      "[CV] kernel=poly, C=100 ..............................................\n",
      "[CV] ............................... kernel=poly, C=100, total=   9.2s\n",
      "[CV] kernel=poly, C=100 ..............................................\n",
      "[CV] ............................... kernel=poly, C=100, total=   8.7s\n",
      "[CV] kernel=poly, C=100 ..............................................\n",
      "[CV] ............................... kernel=poly, C=100, total=   7.4s\n",
      "[CV] kernel=rbf, C=0.1 ...............................................\n",
      "[CV] ................................ kernel=rbf, C=0.1, total=  24.2s\n",
      "[CV] kernel=rbf, C=0.1 ...............................................\n",
      "[CV] ................................ kernel=rbf, C=0.1, total=  23.8s\n",
      "[CV] kernel=rbf, C=0.1 ...............................................\n",
      "[CV] ................................ kernel=rbf, C=0.1, total=  16.3s\n",
      "[CV] kernel=linear, C=1000 ...........................................\n",
      "[CV] ............................ kernel=linear, C=1000, total=   2.4s\n",
      "[CV] kernel=linear, C=1000 ...........................................\n",
      "[CV] ............................ kernel=linear, C=1000, total=   2.6s\n",
      "[CV] kernel=linear, C=1000 ...........................................\n",
      "[CV] ............................ kernel=linear, C=1000, total=   2.4s\n",
      "[CV] kernel=poly, C=1 ................................................\n",
      "[CV] ................................. kernel=poly, C=1, total=   6.8s\n",
      "[CV] kernel=poly, C=1 ................................................\n",
      "[CV] ................................. kernel=poly, C=1, total=   8.1s\n",
      "[CV] kernel=poly, C=1 ................................................\n",
      "[CV] ................................. kernel=poly, C=1, total=   8.6s\n",
      "[CV] kernel=poly, C=10 ...............................................\n",
      "[CV] ................................ kernel=poly, C=10, total=   8.6s\n",
      "[CV] kernel=poly, C=10 ...............................................\n",
      "[CV] ................................ kernel=poly, C=10, total=   8.2s\n",
      "[CV] kernel=poly, C=10 ...............................................\n",
      "[CV] ................................ kernel=poly, C=10, total=   7.0s\n",
      "[CV] kernel=poly, C=0.1 ..............................................\n",
      "[CV] ............................... kernel=poly, C=0.1, total=  20.7s\n",
      "[CV] kernel=poly, C=0.1 ..............................................\n",
      "[CV] ............................... kernel=poly, C=0.1, total=  20.9s\n",
      "[CV] kernel=poly, C=0.1 ..............................................\n",
      "[CV] ............................... kernel=poly, C=0.1, total=  19.3s\n",
      "[CV] kernel=linear, C=0.1 ............................................\n",
      "[CV] ............................. kernel=linear, C=0.1, total=  19.7s\n",
      "[CV] kernel=linear, C=0.1 ............................................\n",
      "[CV] ............................. kernel=linear, C=0.1, total=  18.0s\n",
      "[CV] kernel=linear, C=0.1 ............................................\n",
      "[CV] ............................. kernel=linear, C=0.1, total=  17.9s\n"
     ]
    },
    {
     "name": "stderr",
     "output_type": "stream",
     "text": [
      "[Parallel(n_jobs=1)]: Done  24 out of  24 | elapsed:  4.7min finished\n"
     ]
    },
    {
     "name": "stdout",
     "output_type": "stream",
     "text": [
      "Fitting 3 folds for each of 8 candidates, totalling 24 fits\n",
      "[CV] kernel=rbf, C=100 ...............................................\n"
     ]
    },
    {
     "name": "stderr",
     "output_type": "stream",
     "text": [
      "[Parallel(n_jobs=1)]: Using backend SequentialBackend with 1 concurrent workers.\n"
     ]
    },
    {
     "name": "stdout",
     "output_type": "stream",
     "text": [
      "[CV] ................................ kernel=rbf, C=100, total=   2.5s\n",
      "[CV] kernel=rbf, C=100 ...............................................\n"
     ]
    },
    {
     "name": "stderr",
     "output_type": "stream",
     "text": [
      "[Parallel(n_jobs=1)]: Done   1 out of   1 | elapsed:    2.4s remaining:    0.0s\n"
     ]
    },
    {
     "name": "stdout",
     "output_type": "stream",
     "text": [
      "[CV] ................................ kernel=rbf, C=100, total=   2.6s\n",
      "[CV] kernel=rbf, C=100 ...............................................\n",
      "[CV] ................................ kernel=rbf, C=100, total=   2.9s\n",
      "[CV] kernel=poly, C=100 ..............................................\n",
      "[CV] ............................... kernel=poly, C=100, total=   4.4s\n",
      "[CV] kernel=poly, C=100 ..............................................\n",
      "[CV] ............................... kernel=poly, C=100, total=   4.4s\n",
      "[CV] kernel=poly, C=100 ..............................................\n",
      "[CV] ............................... kernel=poly, C=100, total=   4.7s\n",
      "[CV] kernel=rbf, C=0.1 ...............................................\n",
      "[CV] ................................ kernel=rbf, C=0.1, total=   5.8s\n",
      "[CV] kernel=rbf, C=0.1 ...............................................\n",
      "[CV] ................................ kernel=rbf, C=0.1, total=   5.0s\n",
      "[CV] kernel=rbf, C=0.1 ...............................................\n",
      "[CV] ................................ kernel=rbf, C=0.1, total=   5.3s\n",
      "[CV] kernel=linear, C=1000 ...........................................\n",
      "[CV] ............................ kernel=linear, C=1000, total=   0.8s\n",
      "[CV] kernel=linear, C=1000 ...........................................\n",
      "[CV] ............................ kernel=linear, C=1000, total=   1.1s\n",
      "[CV] kernel=linear, C=1000 ...........................................\n",
      "[CV] ............................ kernel=linear, C=1000, total=   1.0s\n",
      "[CV] kernel=poly, C=1 ................................................\n",
      "[CV] ................................. kernel=poly, C=1, total=   4.2s\n",
      "[CV] kernel=poly, C=1 ................................................\n",
      "[CV] ................................. kernel=poly, C=1, total=   4.6s\n",
      "[CV] kernel=poly, C=1 ................................................\n",
      "[CV] ................................. kernel=poly, C=1, total=   4.6s\n",
      "[CV] kernel=poly, C=10 ...............................................\n",
      "[CV] ................................ kernel=poly, C=10, total=   4.3s\n",
      "[CV] kernel=poly, C=10 ...............................................\n",
      "[CV] ................................ kernel=poly, C=10, total=   4.4s\n",
      "[CV] kernel=poly, C=10 ...............................................\n",
      "[CV] ................................ kernel=poly, C=10, total=   4.6s\n",
      "[CV] kernel=poly, C=0.1 ..............................................\n",
      "[CV] ............................... kernel=poly, C=0.1, total=   8.2s\n",
      "[CV] kernel=poly, C=0.1 ..............................................\n",
      "[CV] ............................... kernel=poly, C=0.1, total=   8.3s\n",
      "[CV] kernel=poly, C=0.1 ..............................................\n",
      "[CV] ............................... kernel=poly, C=0.1, total=   8.5s\n",
      "[CV] kernel=linear, C=0.1 ............................................\n",
      "[CV] ............................. kernel=linear, C=0.1, total=   2.8s\n",
      "[CV] kernel=linear, C=0.1 ............................................\n",
      "[CV] ............................. kernel=linear, C=0.1, total=   2.7s\n",
      "[CV] kernel=linear, C=0.1 ............................................\n",
      "[CV] ............................. kernel=linear, C=0.1, total=   2.9s\n"
     ]
    },
    {
     "name": "stderr",
     "output_type": "stream",
     "text": [
      "[Parallel(n_jobs=1)]: Done  24 out of  24 | elapsed:  1.7min finished\n"
     ]
    }
   ],
   "source": [
    "#%% SVM LOOP FOR ALL VARIABLES\n",
    "\n",
    "#Be carefull with these functions, they work with df and no with arrays\n",
    "# Create function that selects output variables\n",
    "def get_y_var(df, y_list):\n",
    "    return df[y_list]\n",
    "\n",
    "# Create function that selects input variables\n",
    "def get_x_var(df, x_list):\n",
    "    return df[x_list]\n",
    "\n",
    "# Initialize data frame and library that will be used \n",
    "accuracy = {}\n",
    "kappa = {}\n",
    "conf_matrix_SVM = {}\n",
    "class_report_SVM = {}\n",
    "metrics_classification_SVM = [accuracy, kappa]\n",
    "mse = {}\n",
    "mae = {}\n",
    "r2 = {}\n",
    "rmse ={}\n",
    "metrics_regression_SVM = [mse, mae, r2, rmse]\n",
    "best_parameters_SVM = {}\n",
    "\n",
    "# Prediction log\n",
    "predictions_SVM = pd.DataFrame()\n",
    "\n",
    "# Select all variables that need prediction\n",
    "pred_var = [\"LONGITUDE\", \n",
    "            \"LATITUDE\", \n",
    "            \"FLOOR\", \n",
    "            \"BUILDINGID\"]\n",
    "\n",
    "# Select all variables that need regression\n",
    "reg_labels = [\"LONGITUDE\", \n",
    "              \"LATITUDE\"]\n",
    "\n",
    "# Loop over the predictor variables\n",
    "for i in pred_var:\n",
    "    # If i is label that requires regression, run regression else classification\n",
    "    if i in reg_labels:\n",
    "        # Select label you want to predict from train\n",
    "        training_y_reg = get_y_var(y_training, i)\n",
    "        # Select label you want to predict from validation\n",
    "        validation_y_reg = get_y_var(y_validation, i)        \n",
    "        # Initiate regressor\n",
    "        svm = SVR()\n",
    "        #Grid Search CV\n",
    "        svm_random = RandomizedSearchCV(estimator = svm, param_distributions = random_grid_SVR, n_iter = 8, cv = 3, verbose=2, random_state=42, n_jobs = 1)\n",
    "            #The most important arguments in RandomizedSearchCV are n_iter, which controls the number of different combinations to try, and cv which is the number of folds to use for cross validation (we use 100 and 3 respectively).\n",
    "        # Fit model with the best RF found\n",
    "        svm_random.fit(X_training, training_y_reg)\n",
    "        # Predict values for validation data\n",
    "        pred = svm_random.predict(X_validation) \n",
    "        # Write prediction to pred_\n",
    "        predictions_SVM[i] = pred        \n",
    "        # Estimate mse, mea, r^2 and write to library for relevant i\n",
    "        mse[i] = mean_squared_error(validation_y_reg, pred)\n",
    "        mae[i] = mean_absolute_error(validation_y_reg, pred)\n",
    "        r2[i] = r2_score(validation_y_reg, pred)\n",
    "        rmse[i] = sqrt(mean_squared_error(validation_y_reg, pred))\n",
    "        #Store the best parameters\n",
    "        best_parameters_SVM[i]=svm_random.best_params_\n",
    "        \n",
    "    else:\n",
    "        # Select label you want to predict from train\n",
    "        training_y_clf = get_y_var(y_training, i)\n",
    "        # Select label you want to predict from validation\n",
    "        validation_y_clf = get_y_var(y_validation, i)        \n",
    "        # Initiate classifier\n",
    "        svc = SVC()\n",
    "        #Grid Search CV\n",
    "        svm_random = RandomizedSearchCV(estimator = svc, param_distributions = random_grid_SVC, n_iter = 8, cv = 3, verbose=2, random_state=42, n_jobs = 1)\n",
    "            #The most important arguments in RandomizedSearchCV are n_iter, which controls the number of different combinations to try, and cv which is the number of folds to use for cross validation (we use 100 and 3 respectively).\n",
    "        # Fit model with the best RF found\n",
    "        svm_random.fit(X_training, training_y_clf)\n",
    "        # Predict values for validation data\n",
    "        pred = svm_random.predict(X_validation) \n",
    "        # Write prediction to pred_log\n",
    "        predictions_SVM[i] = pred        \n",
    "        # Estimate accuracy,kappa and confussion matrix and write to library for relevant i\n",
    "        accuracy[i] = accuracy_score(validation_y_clf, pred)\n",
    "        kappa[i] = cohen_kappa_score(validation_y_clf, pred)\n",
    "        conf_matrix_SVM[i] = confusion_matrix(validation_y_clf, pred)\n",
    "        class_report_SVM[i]=classification_report(validation_y_clf, pred)\n",
    "        #Store the best parameters\n",
    "        best_parameters_SVM[i]=svm_random.best_params_\n",
    "    \n",
    "\n",
    "metrics_regression_SVM = pd.DataFrame(metrics_regression_SVM, index=[\"mse\", \"mae\", \"r2\", \"rmse\"])\n",
    "metrics_classification_SVM = pd.DataFrame(metrics_classification_SVM, index=[\"accuracy\", \"kappa\"])\n"
   ]
  },
  {
   "cell_type": "markdown",
   "metadata": {},
   "source": [
    "### SVM Results"
   ]
  },
  {
   "cell_type": "code",
   "execution_count": 37,
   "metadata": {
    "ExecuteTime": {
     "end_time": "2020-02-16T14:35:17.313056Z",
     "start_time": "2020-02-16T14:35:17.302051Z"
    },
    "cell_style": "split"
   },
   "outputs": [
    {
     "data": {
      "text/html": [
       "<div>\n",
       "<style scoped>\n",
       "    .dataframe tbody tr th:only-of-type {\n",
       "        vertical-align: middle;\n",
       "    }\n",
       "\n",
       "    .dataframe tbody tr th {\n",
       "        vertical-align: top;\n",
       "    }\n",
       "\n",
       "    .dataframe thead th {\n",
       "        text-align: right;\n",
       "    }\n",
       "</style>\n",
       "<table border=\"1\" class=\"dataframe\">\n",
       "  <thead>\n",
       "    <tr style=\"text-align: right;\">\n",
       "      <th></th>\n",
       "      <th>FLOOR</th>\n",
       "      <th>BUILDINGID</th>\n",
       "    </tr>\n",
       "  </thead>\n",
       "  <tbody>\n",
       "    <tr>\n",
       "      <th>accuracy</th>\n",
       "      <td>0.945995</td>\n",
       "      <td>1.0</td>\n",
       "    </tr>\n",
       "    <tr>\n",
       "      <th>kappa</th>\n",
       "      <td>0.923975</td>\n",
       "      <td>1.0</td>\n",
       "    </tr>\n",
       "  </tbody>\n",
       "</table>\n",
       "</div>"
      ],
      "text/plain": [
       "             FLOOR  BUILDINGID\n",
       "accuracy  0.945995         1.0\n",
       "kappa     0.923975         1.0"
      ]
     },
     "execution_count": 37,
     "metadata": {},
     "output_type": "execute_result"
    }
   ],
   "source": [
    "metrics_classification_SVM"
   ]
  },
  {
   "cell_type": "code",
   "execution_count": 38,
   "metadata": {
    "ExecuteTime": {
     "end_time": "2020-02-16T14:35:19.888192Z",
     "start_time": "2020-02-16T14:35:19.879216Z"
    },
    "cell_style": "split"
   },
   "outputs": [
    {
     "data": {
      "text/html": [
       "<div>\n",
       "<style scoped>\n",
       "    .dataframe tbody tr th:only-of-type {\n",
       "        vertical-align: middle;\n",
       "    }\n",
       "\n",
       "    .dataframe tbody tr th {\n",
       "        vertical-align: top;\n",
       "    }\n",
       "\n",
       "    .dataframe thead th {\n",
       "        text-align: right;\n",
       "    }\n",
       "</style>\n",
       "<table border=\"1\" class=\"dataframe\">\n",
       "  <thead>\n",
       "    <tr style=\"text-align: right;\">\n",
       "      <th></th>\n",
       "      <th>LONGITUDE</th>\n",
       "      <th>LATITUDE</th>\n",
       "    </tr>\n",
       "  </thead>\n",
       "  <tbody>\n",
       "    <tr>\n",
       "      <th>mse</th>\n",
       "      <td>95.501002</td>\n",
       "      <td>63.510631</td>\n",
       "    </tr>\n",
       "    <tr>\n",
       "      <th>mae</th>\n",
       "      <td>6.843962</td>\n",
       "      <td>5.438537</td>\n",
       "    </tr>\n",
       "    <tr>\n",
       "      <th>r2</th>\n",
       "      <td>0.993385</td>\n",
       "      <td>0.987127</td>\n",
       "    </tr>\n",
       "    <tr>\n",
       "      <th>rmse</th>\n",
       "      <td>9.772461</td>\n",
       "      <td>7.969356</td>\n",
       "    </tr>\n",
       "  </tbody>\n",
       "</table>\n",
       "</div>"
      ],
      "text/plain": [
       "      LONGITUDE   LATITUDE\n",
       "mse   95.501002  63.510631\n",
       "mae    6.843962   5.438537\n",
       "r2     0.993385   0.987127\n",
       "rmse   9.772461   7.969356"
      ]
     },
     "execution_count": 38,
     "metadata": {},
     "output_type": "execute_result"
    }
   ],
   "source": [
    "metrics_regression_SVM"
   ]
  },
  {
   "cell_type": "code",
   "execution_count": 39,
   "metadata": {
    "ExecuteTime": {
     "end_time": "2020-02-16T14:35:22.694721Z",
     "start_time": "2020-02-16T14:35:22.688738Z"
    }
   },
   "outputs": [
    {
     "data": {
      "text/plain": [
       "{'LONGITUDE': {'kernel': 'rbf', 'C': 100},\n",
       " 'LATITUDE': {'kernel': 'rbf', 'C': 100},\n",
       " 'FLOOR': {'kernel': 'poly', 'C': 100},\n",
       " 'BUILDINGID': {'kernel': 'rbf', 'C': 0.1}}"
      ]
     },
     "execution_count": 39,
     "metadata": {},
     "output_type": "execute_result"
    }
   ],
   "source": [
    "best_parameters_SVM"
   ]
  }
 ],
 "metadata": {
  "kernelspec": {
   "display_name": "Python 3",
   "language": "python",
   "name": "python3"
  },
  "language_info": {
   "codemirror_mode": {
    "name": "ipython",
    "version": 3
   },
   "file_extension": ".py",
   "mimetype": "text/x-python",
   "name": "python",
   "nbconvert_exporter": "python",
   "pygments_lexer": "ipython3",
   "version": "3.7.4"
  },
  "toc": {
   "base_numbering": 1,
   "nav_menu": {},
   "number_sections": true,
   "sideBar": true,
   "skip_h1_title": false,
   "title_cell": "Table of Contents",
   "title_sidebar": "Contents",
   "toc_cell": false,
   "toc_position": {
    "height": "calc(100% - 180px)",
    "left": "10px",
    "top": "150px",
    "width": "175.667px"
   },
   "toc_section_display": true,
   "toc_window_display": true
  },
  "varInspector": {
   "cols": {
    "lenName": 16,
    "lenType": 16,
    "lenVar": 40
   },
   "kernels_config": {
    "python": {
     "delete_cmd_postfix": "",
     "delete_cmd_prefix": "del ",
     "library": "var_list.py",
     "varRefreshCmd": "print(var_dic_list())"
    },
    "r": {
     "delete_cmd_postfix": ") ",
     "delete_cmd_prefix": "rm(",
     "library": "var_list.r",
     "varRefreshCmd": "cat(var_dic_list()) "
    }
   },
   "oldHeight": 186.989666,
   "position": {
    "height": "256.653px",
    "left": "1417px",
    "right": "20px",
    "top": "110px",
    "width": "250px"
   },
   "types_to_exclude": [
    "module",
    "function",
    "builtin_function_or_method",
    "instance",
    "_Feature"
   ],
   "varInspector_section_display": "block",
   "window_display": true
  }
 },
 "nbformat": 4,
 "nbformat_minor": 4
}
